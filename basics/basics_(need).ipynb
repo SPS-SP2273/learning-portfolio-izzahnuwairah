{
 "cells": [
  {
   "cell_type": "markdown",
   "id": "123456",
   "metadata": {},
   "source": [
    "<div style=\"text-align:left;font-size:2em\"><span style=\"font-weight:bolder;font-size:1.25em\">SP2273 | Learning Portfolio</span><br><br><span style=\"font-weight:bold;color:darkred\">Basics (Need)</span></div>"
   ]
  },
  {
   "cell_type": "markdown",
   "id": "b2768b1a",
   "metadata": {},
   "source": [
    "## 1 Some Python Basics"
   ]
  },
  {
   "cell_type": "markdown",
   "id": "4a54f77f",
   "metadata": {},
   "source": [
    "### 1.1 Functions"
   ]
  },
  {
   "cell_type": "code",
   "execution_count": 1,
   "id": "adf7e65d",
   "metadata": {},
   "outputs": [
    {
     "name": "stdout",
     "output_type": "stream",
     "text": [
      "Hello world!\n"
     ]
    }
   ],
   "source": [
    "print('Hello world!')"
   ]
  },
  {
   "cell_type": "code",
   "execution_count": 2,
   "id": "325d8900",
   "metadata": {},
   "outputs": [
    {
     "name": "stdout",
     "output_type": "stream",
     "text": [
      "this is how you'd add text with apostrophe\n"
     ]
    }
   ],
   "source": [
    "print(\"this is how you'd add text with apostrophe\")"
   ]
  },
  {
   "cell_type": "code",
   "execution_count": 3,
   "id": "5e2f3694",
   "metadata": {},
   "outputs": [
    {
     "ename": "SyntaxError",
     "evalue": "unterminated string literal (detected at line 1) (1360628873.py, line 1)",
     "output_type": "error",
     "traceback": [
      "\u001b[1;36m  Cell \u001b[1;32mIn[3], line 1\u001b[1;36m\u001b[0m\n\u001b[1;33m    print('this won't work')\u001b[0m\n\u001b[1;37m                          ^\u001b[0m\n\u001b[1;31mSyntaxError\u001b[0m\u001b[1;31m:\u001b[0m unterminated string literal (detected at line 1)\n"
     ]
    }
   ],
   "source": [
    "print('this won't work')"
   ]
  },
  {
   "cell_type": "markdown",
   "id": "62261907",
   "metadata": {},
   "source": [
    "### 1.2 Python is interpreted"
   ]
  },
  {
   "cell_type": "code",
   "execution_count": 4,
   "id": "fb7ff3af",
   "metadata": {},
   "outputs": [
    {
     "name": "stdout",
     "output_type": "stream",
     "text": [
      "Hello World\n",
      "Hello World again\n"
     ]
    }
   ],
   "source": [
    "print('Hello World')\n",
    "print('Hello World again')"
   ]
  },
  {
   "cell_type": "markdown",
   "id": "38f3cb2a",
   "metadata": {},
   "source": [
    "### 1.3 Python is sensitive."
   ]
  },
  {
   "cell_type": "code",
   "execution_count": 5,
   "id": "76a630a1",
   "metadata": {},
   "outputs": [
    {
     "ename": "NameError",
     "evalue": "name 'Print' is not defined",
     "output_type": "error",
     "traceback": [
      "\u001b[1;31m---------------------------------------------------------------------------\u001b[0m",
      "\u001b[1;31mNameError\u001b[0m                                 Traceback (most recent call last)",
      "Cell \u001b[1;32mIn[5], line 1\u001b[0m\n\u001b[1;32m----> 1\u001b[0m \u001b[43mPrint\u001b[49m(\u001b[38;5;124m'\u001b[39m\u001b[38;5;124mcool\u001b[39m\u001b[38;5;124m'\u001b[39m)\n",
      "\u001b[1;31mNameError\u001b[0m: name 'Print' is not defined"
     ]
    }
   ],
   "source": [
    "Print('cool')"
   ]
  },
  {
   "cell_type": "markdown",
   "id": "a5cb7231",
   "metadata": {},
   "source": [
    "### 1.4 Comments"
   ]
  },
  {
   "cell_type": "code",
   "execution_count": 6,
   "id": "e7fd866f",
   "metadata": {},
   "outputs": [
    {
     "name": "stdout",
     "output_type": "stream",
     "text": [
      "i love sudoku\n"
     ]
    }
   ],
   "source": [
    "# This is to inform you that sudoku is fun\n",
    "print('i love sudoku')"
   ]
  },
  {
   "cell_type": "markdown",
   "id": "a3620330",
   "metadata": {},
   "source": [
    "### 1.5 = is not the same as =="
   ]
  },
  {
   "cell_type": "code",
   "execution_count": 16,
   "id": "12edce2b",
   "metadata": {},
   "outputs": [
    {
     "data": {
      "text/plain": [
       "True"
      ]
     },
     "execution_count": 16,
     "metadata": {},
     "output_type": "execute_result"
    }
   ],
   "source": [
    "true = 'False'\n",
    "true == 'False'"
   ]
  },
  {
   "cell_type": "markdown",
   "id": "dd104086",
   "metadata": {},
   "source": [
    "### 1.6 Use if to make decisions"
   ]
  },
  {
   "cell_type": "code",
   "execution_count": 13,
   "id": "91d2629f",
   "metadata": {},
   "outputs": [
    {
     "name": "stdout",
     "output_type": "stream",
     "text": [
      "Hello Hero | Batman!\n"
     ]
    }
   ],
   "source": [
    "name = 'Batman'\n",
    "\n",
    "if name == 'Batman':\n",
    "    print('Hello Hero | Batman!')\n",
    "else:\n",
    "    print('Hello World!')"
   ]
  },
  {
   "cell_type": "code",
   "execution_count": 15,
   "id": "57879e00",
   "metadata": {},
   "outputs": [
    {
     "name": "stdout",
     "output_type": "stream",
     "text": [
      "Barney is a purple dinosaur\n"
     ]
    }
   ],
   "source": [
    "colour = 'purple'\n",
    "if colour == 'purple':\n",
    "    print('Barney is a purple dinosaur')\n",
    "else:\n",
    "    print('idk')"
   ]
  },
  {
   "cell_type": "markdown",
   "id": "5f4f5d48",
   "metadata": {},
   "source": [
    "### 1.7 Indentations (spaces) are sooo IMPORTANT!"
   ]
  },
  {
   "cell_type": "code",
   "execution_count": 17,
   "id": "db2baa2c",
   "metadata": {},
   "outputs": [
    {
     "name": "stdout",
     "output_type": "stream",
     "text": [
      "73\n"
     ]
    }
   ],
   "source": [
    "x = 73\n",
    "print(x)"
   ]
  },
  {
   "cell_type": "markdown",
   "id": "e3490d66",
   "metadata": {},
   "source": [
    "### 1.8 ‘age’ is English, age is a variable."
   ]
  },
  {
   "cell_type": "code",
   "execution_count": 19,
   "id": "3cc3efe9",
   "metadata": {},
   "outputs": [
    {
     "name": "stdout",
     "output_type": "stream",
     "text": [
      "58\n",
      "age\n"
     ]
    }
   ],
   "source": [
    "age = 58\n",
    "print(age) # number will be printed\n",
    "print('age') # word 'age' will be printed"
   ]
  },
  {
   "cell_type": "markdown",
   "id": "f941e60a",
   "metadata": {},
   "source": [
    "### 1.9 Escape sequences"
   ]
  },
  {
   "cell_type": "code",
   "execution_count": 21,
   "id": "e7cf04e8",
   "metadata": {},
   "outputs": [
    {
     "name": "stdout",
     "output_type": "stream",
     "text": [
      "It's possible to type apostrophes without double quotations\n"
     ]
    }
   ],
   "source": [
    "print('It\\'s possible to type apostrophes without double quotations')"
   ]
  },
  {
   "cell_type": "code",
   "execution_count": 22,
   "id": "2cda5302",
   "metadata": {},
   "outputs": [
    {
     "name": "stdout",
     "output_type": "stream",
     "text": [
      "what's this \\help\n"
     ]
    }
   ],
   "source": [
    "print('what\\'s this \\\\help')"
   ]
  },
  {
   "cell_type": "code",
   "execution_count": 24,
   "id": "eaa6bef5",
   "metadata": {},
   "outputs": [
    {
     "name": "stdout",
     "output_type": "stream",
     "text": [
      "hello \n",
      "my name is nuwairah \tnice to meet you\n"
     ]
    }
   ],
   "source": [
    "print('hello \\nmy name is nuwairah \\tnice to meet you')"
   ]
  },
  {
   "cell_type": "markdown",
   "id": "a5c79efd",
   "metadata": {},
   "source": [
    "### 1.10 Brackets"
   ]
  },
  {
   "cell_type": "code",
   "execution_count": 25,
   "id": "4300fcba",
   "metadata": {},
   "outputs": [
    {
     "name": "stdout",
     "output_type": "stream",
     "text": [
      "Hello friends!\n"
     ]
    }
   ],
   "source": [
    "print('Hello friends!')             # In functions"
   ]
  },
  {
   "cell_type": "code",
   "execution_count": 27,
   "id": "85b73e1f",
   "metadata": {},
   "outputs": [
    {
     "data": {
      "text/plain": [
       "21"
      ]
     },
     "execution_count": 27,
     "metadata": {},
     "output_type": "execute_result"
    }
   ],
   "source": [
    "(1 + 2) * 7                 # For math"
   ]
  },
  {
   "cell_type": "code",
   "execution_count": 47,
   "id": "4ad259aa",
   "metadata": {},
   "outputs": [
    {
     "name": "stdout",
     "output_type": "stream",
     "text": [
      "[1, 2, 3, 4, 5]\n",
      "[1, 'A, X, Y, Z']\n",
      "[2, 'Q, W, E, R']\n"
     ]
    }
   ],
   "source": [
    "py_list = [1, 2, 3, 4, 5]   # A 1D list\n",
    "\n",
    "py_list_2 = [[1, \"A, X, Y, Z\"],      # A 2D list\n",
    "             [2, \"Q, W, E, R\"],\n",
    "             [3, \"C\"],\n",
    "             [4, \"D\"],\n",
    "             [5, \"E\"]]\n",
    "print(py_list)\n",
    "print(py_list_2[0])\n",
    "print(py_list_2[1])\n",
    "\n",
    "# in list_2, the first element is 0"
   ]
  },
  {
   "cell_type": "code",
   "execution_count": 52,
   "id": "801b1e45",
   "metadata": {},
   "outputs": [
    {
     "name": "stdout",
     "output_type": "stream",
     "text": [
      "Bata man\n"
     ]
    }
   ],
   "source": [
    "personal_info = {\n",
    "    'Names': 'Batman',\n",
    "    'Real Name': 'Bata man',\n",
    "    'Age': 55,\n",
    "    'Affiliation': 'Shoes',\n",
    "    'Universe': 'SG'\n",
    "}\n",
    "print(personal_info['Real Name'])    "
   ]
  },
  {
   "cell_type": "code",
   "execution_count": 51,
   "id": "526caf28",
   "metadata": {},
   "outputs": [
    {
     "name": "stdout",
     "output_type": "stream",
     "text": [
      "pokemon\n"
     ]
    }
   ],
   "source": [
    "personal_info = {\n",
    "    'Names': 'pikachu',\n",
    "    'Real Name': 'not pikachu',\n",
    "    'Age': 6,\n",
    "    'Affiliation': 'idk',\n",
    "    'Universe': 'pokemon'\n",
    "}\n",
    "print(personal_info['Universe'])"
   ]
  },
  {
   "cell_type": "markdown",
   "id": "cffbaed6",
   "metadata": {},
   "source": [
    "## 2 Giving Python superpowers"
   ]
  },
  {
   "cell_type": "markdown",
   "id": "571c36af",
   "metadata": {},
   "source": [
    "### 2.1 Packages"
   ]
  },
  {
   "cell_type": "code",
   "execution_count": 54,
   "id": "1162c3f2",
   "metadata": {},
   "outputs": [
    {
     "data": {
      "text/plain": [
       "40.5"
      ]
     },
     "execution_count": 54,
     "metadata": {},
     "output_type": "execute_result"
    }
   ],
   "source": [
    "1 * ((2 - 3) + 4) ** 5 / 6 \n",
    "#** for power, ^ cannot use\n"
   ]
  },
  {
   "cell_type": "code",
   "execution_count": 55,
   "id": "4cb4b2c5",
   "metadata": {},
   "outputs": [],
   "source": [
    "import math         # Adding(importing) the functions\n",
    "                    # of the 'math' package    "
   ]
  },
  {
   "cell_type": "code",
   "execution_count": 57,
   "id": "59be5bfa",
   "metadata": {},
   "outputs": [
    {
     "data": {
      "text/plain": [
       "2.0"
      ]
     },
     "execution_count": 57,
     "metadata": {},
     "output_type": "execute_result"
    }
   ],
   "source": [
    "math.sqrt(4)"
   ]
  },
  {
   "cell_type": "code",
   "execution_count": 59,
   "id": "980112e5",
   "metadata": {},
   "outputs": [
    {
     "data": {
      "text/plain": [
       "25.436194683953808"
      ]
     },
     "execution_count": 59,
     "metadata": {},
     "output_type": "execute_result"
    }
   ],
   "source": [
    "math.sqrt(647)"
   ]
  },
  {
   "cell_type": "code",
   "execution_count": 60,
   "id": "755eb6df",
   "metadata": {},
   "outputs": [],
   "source": [
    "import numpy as np    # Importing Numpy and giving it an alias np\n",
    "                      # because I am lazy"
   ]
  },
  {
   "cell_type": "code",
   "execution_count": 65,
   "id": "ca4b8930",
   "metadata": {},
   "outputs": [
    {
     "data": {
      "text/plain": [
       "8.0"
      ]
     },
     "execution_count": 65,
     "metadata": {},
     "output_type": "execute_result"
    }
   ],
   "source": [
    "np.sqrt(64)"
   ]
  },
  {
   "cell_type": "code",
   "execution_count": 66,
   "id": "63299c87",
   "metadata": {},
   "outputs": [
    {
     "data": {
      "text/plain": [
       "array([2., 3., 4.])"
      ]
     },
     "execution_count": 66,
     "metadata": {},
     "output_type": "execute_result"
    }
   ],
   "source": [
    "np.sqrt([4, 9, 16])"
   ]
  },
  {
   "cell_type": "markdown",
   "id": "543face5",
   "metadata": {},
   "source": [
    "### 2.2 The dot (.)"
   ]
  },
  {
   "cell_type": "code",
   "execution_count": 81,
   "id": "1656db3a",
   "metadata": {},
   "outputs": [
    {
     "name": "stdout",
     "output_type": "stream",
     "text": [
      "9.0 2.0\n"
     ]
    }
   ],
   "source": [
    "print(math. sqrt (81),\n",
    "np. sqrt (4))\n",
    "# without print, jupyter would only give the last answer "
   ]
  },
  {
   "cell_type": "code",
   "execution_count": 82,
   "id": "8d0a0204",
   "metadata": {},
   "outputs": [
    {
     "data": {
      "text/plain": [
       "2.0"
      ]
     },
     "execution_count": 82,
     "metadata": {},
     "output_type": "execute_result"
    }
   ],
   "source": [
    "math. sqrt (4)\n",
    "np. sqrt (4)"
   ]
  },
  {
   "cell_type": "code",
   "execution_count": 68,
   "id": "70b27dc0",
   "metadata": {},
   "outputs": [
    {
     "data": {
      "text/plain": [
       "['I', 'am', 'Batman']"
      ]
     },
     "execution_count": 68,
     "metadata": {},
     "output_type": "execute_result"
    }
   ],
   "source": [
    "\"I am Batman\".split()"
   ]
  },
  {
   "cell_type": "code",
   "execution_count": 72,
   "id": "cb50e81c",
   "metadata": {},
   "outputs": [
    {
     "data": {
      "text/plain": [
       "['1', '2', '3', '4']"
      ]
     },
     "execution_count": 72,
     "metadata": {},
     "output_type": "execute_result"
    }
   ],
   "source": [
    "\"1 2 3 4\".split()\n"
   ]
  },
  {
   "cell_type": "code",
   "execution_count": 83,
   "id": "0909ba85",
   "metadata": {},
   "outputs": [
    {
     "data": {
      "text/plain": [
       "['1234']"
      ]
     },
     "execution_count": 83,
     "metadata": {},
     "output_type": "execute_result"
    }
   ],
   "source": [
    "\"1234\".split()"
   ]
  },
  {
   "cell_type": "markdown",
   "id": "aa425c62",
   "metadata": {},
   "source": [
    "## Exercise 1 :  Total recall?"
   ]
  },
  {
   "cell_type": "markdown",
   "id": "67481756",
   "metadata": {},
   "source": [
    "import (packaging)\n",
    "split function\n",
    "print function\n",
    "sqrt\n",
    "** for power\n",
    "py_list for 1D\n",
    "py_list_2 for 2D\n",
    ". for ownership\n",
    "() for function\n",
    "{} store information\n",
    "\\t horizontal tab, \\n new line, \\ escape, \\\\ backslash"
   ]
  },
  {
   "cell_type": "markdown",
   "id": "b1c256a2",
   "metadata": {},
   "source": [
    "## Exercise 2 :  Debug me"
   ]
  },
  {
   "cell_type": "code",
   "execution_count": 87,
   "id": "1b25e81e",
   "metadata": {},
   "outputs": [
    {
     "name": "stdout",
     "output_type": "stream",
     "text": [
      "3 4 4.69041575982343\n"
     ]
    }
   ],
   "source": [
    "x, y = 3, 4\n",
    "z = math.sqrt(x*2 + y**2)\n",
    "print(x, y, z)"
   ]
  },
  {
   "cell_type": "markdown",
   "id": "df7b71a6",
   "metadata": {},
   "source": [
    "## Exercise 3 :  In your own words"
   ]
  },
  {
   "cell_type": "markdown",
   "id": "813e2b6a",
   "metadata": {},
   "source": [
    "1. Function: performs a specific task\n",
    "1. Argument: placed in () of a function for it to be coded\n",
    "1. Comments: your own notes, will be ignored by the interpreter\n",
    "1. Indentations: important spaces for code to run smoothly \n",
    "1. Packages: increase python functionality\n",
    "1. . : indicates function ownership"
   ]
  },
  {
   "cell_type": "markdown",
   "id": "797c86a9",
   "metadata": {},
   "source": [
    "## Exercise 4 :  More than one way to divide"
   ]
  },
  {
   "cell_type": "code",
   "execution_count": 88,
   "id": "1210ba12",
   "metadata": {},
   "outputs": [
    {
     "data": {
      "text/plain": [
       "2.5"
      ]
     },
     "execution_count": 88,
     "metadata": {},
     "output_type": "execute_result"
    }
   ],
   "source": [
    "5/2           # Exact value"
   ]
  },
  {
   "cell_type": "code",
   "execution_count": 89,
   "id": "9524e864",
   "metadata": {},
   "outputs": [
    {
     "data": {
      "text/plain": [
       "2"
      ]
     },
     "execution_count": 89,
     "metadata": {},
     "output_type": "execute_result"
    }
   ],
   "source": [
    "5//2          # rounded down value (quotient)"
   ]
  },
  {
   "cell_type": "code",
   "execution_count": 91,
   "id": "6ae38306",
   "metadata": {},
   "outputs": [
    {
     "data": {
      "text/plain": [
       "1"
      ]
     },
     "execution_count": 91,
     "metadata": {},
     "output_type": "execute_result"
    }
   ],
   "source": [
    "5%2           # remainder value"
   ]
  }
 ],
 "metadata": {
  "kernelspec": {
   "display_name": "Python 3 (ipykernel)",
   "language": "python",
   "name": "python3"
  },
  "language_info": {
   "codemirror_mode": {
    "name": "ipython",
    "version": 3
   },
   "file_extension": ".py",
   "mimetype": "text/x-python",
   "name": "python",
   "nbconvert_exporter": "python",
   "pygments_lexer": "ipython3",
   "version": "3.10.8"
  },
  "toc": {
   "base_numbering": 1,
   "nav_menu": {},
   "number_sections": true,
   "sideBar": true,
   "skip_h1_title": false,
   "title_cell": "Table of Contents",
   "title_sidebar": "Contents",
   "toc_cell": false,
   "toc_position": {},
   "toc_section_display": true,
   "toc_window_display": false
  },
  "varInspector": {
   "cols": {
    "lenName": 16,
    "lenType": 16,
    "lenVar": 40
   },
   "kernels_config": {
    "python": {
     "delete_cmd_postfix": "",
     "delete_cmd_prefix": "del ",
     "library": "var_list.py",
     "varRefreshCmd": "print(var_dic_list())"
    },
    "r": {
     "delete_cmd_postfix": ") ",
     "delete_cmd_prefix": "rm(",
     "library": "var_list.r",
     "varRefreshCmd": "cat(var_dic_list()) "
    }
   },
   "types_to_exclude": [
    "module",
    "function",
    "builtin_function_or_method",
    "instance",
    "_Feature"
   ],
   "window_display": false
  },
  "vscode": {
   "interpreter": {
    "hash": "31f2aee4e71d21fbe5cf8b01ff0e069b9275f58929596ceb00d14d90e3e16cd6"
   }
  }
 },
 "nbformat": 4,
 "nbformat_minor": 5
}
