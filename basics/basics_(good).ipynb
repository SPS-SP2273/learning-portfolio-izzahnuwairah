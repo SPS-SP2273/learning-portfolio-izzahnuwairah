{
 "cells": [
  {
   "cell_type": "markdown",
   "id": "123456",
   "metadata": {},
   "source": [
    "<div style=\"text-align:left;font-size:2em\"><span style=\"font-weight:bolder;font-size:1.25em\">SP2273 | Learning Portfolio</span><br><br><span style=\"font-weight:bold;color:darkred\">Basics (Good)</span></div>"
   ]
  },
  {
   "cell_type": "markdown",
   "id": "ba10253c",
   "metadata": {},
   "source": [
    "## 1 More Python Basics"
   ]
  },
  {
   "cell_type": "markdown",
   "id": "34662823",
   "metadata": {},
   "source": [
    "### 1.1 Computers read = from Right to Left!"
   ]
  },
  {
   "cell_type": "code",
   "execution_count": 1,
   "id": "80f4402c",
   "metadata": {},
   "outputs": [
    {
     "name": "stdout",
     "output_type": "stream",
     "text": [
      "42\n"
     ]
    }
   ],
   "source": [
    "x = 40\n",
    "y = x + 2\n",
    "print(y)"
   ]
  },
  {
   "cell_type": "code",
   "execution_count": 2,
   "id": "778301cf",
   "metadata": {},
   "outputs": [
    {
     "name": "stdout",
     "output_type": "stream",
     "text": [
      "53\n"
     ]
    }
   ],
   "source": [
    "y = 50\n",
    "y = y + 3\n",
    "print(y)"
   ]
  },
  {
   "cell_type": "code",
   "execution_count": 3,
   "id": "05ec0fa9",
   "metadata": {},
   "outputs": [
    {
     "name": "stdout",
     "output_type": "stream",
     "text": [
      "8\n",
      "12\n"
     ]
    }
   ],
   "source": [
    "x = y = 12\n",
    "y = y - 4   # this portion updates the value of the variable\n",
    "print(y)\n",
    "print(x)"
   ]
  },
  {
   "cell_type": "markdown",
   "id": "270e7d78",
   "metadata": {},
   "source": [
    "### 1.2 Shorter and cleaner"
   ]
  },
  {
   "cell_type": "code",
   "execution_count": 4,
   "id": "3d031b8b",
   "metadata": {},
   "outputs": [
    {
     "data": {
      "text/plain": [
       "21"
      ]
     },
     "execution_count": 4,
     "metadata": {},
     "output_type": "execute_result"
    }
   ],
   "source": [
    "y = 17\n",
    "y += 4       # same as y = y + 4\n",
    "y           # no need to write print()"
   ]
  },
  {
   "cell_type": "code",
   "execution_count": 5,
   "id": "1a015658",
   "metadata": {},
   "outputs": [
    {
     "data": {
      "text/plain": [
       "15"
      ]
     },
     "execution_count": 5,
     "metadata": {},
     "output_type": "execute_result"
    }
   ],
   "source": [
    "x = 74\n",
    "x -= 59\n",
    "x   # works for -,/,* too! :-)"
   ]
  },
  {
   "cell_type": "code",
   "execution_count": 6,
   "id": "cf4f0ce8",
   "metadata": {},
   "outputs": [
    {
     "data": {
      "text/plain": [
       "28.0"
      ]
     },
     "execution_count": 6,
     "metadata": {},
     "output_type": "execute_result"
    }
   ],
   "source": [
    "x = 33\n",
    "x /= 3\n",
    "x += 17      # ooo u can continue adding in WOW\n",
    "x"
   ]
  },
  {
   "cell_type": "markdown",
   "id": "c7dd0f7a",
   "metadata": {},
   "source": [
    "### 1.3 Asking questions"
   ]
  },
  {
   "cell_type": "code",
   "execution_count": 7,
   "id": "be040f76",
   "metadata": {},
   "outputs": [
    {
     "data": {
      "text/plain": [
       "True"
      ]
     },
     "execution_count": 7,
     "metadata": {},
     "output_type": "execute_result"
    }
   ],
   "source": [
    "fruits = [\"apple\", \"banana\", \"pineapple\", \"jackfruit\"]\n",
    "vegetables = [\"celery\", \"potato\", \"broccoli\", \"kale\"]\n",
    "\n",
    "\"apple\" in fruits"
   ]
  },
  {
   "cell_type": "code",
   "execution_count": 8,
   "id": "2f261ef5",
   "metadata": {},
   "outputs": [
    {
     "data": {
      "text/plain": [
       "True"
      ]
     },
     "execution_count": 8,
     "metadata": {},
     "output_type": "execute_result"
    }
   ],
   "source": [
    "fruits = [\"apple\", \"banana\", \"pineapple\", \"jackfruit\"]\n",
    "vegetables = [\"celery\", \"potato\", \"broccoli\", \"kale\"]\n",
    "(\"apple\" in fruits) and (\"celery\" in vegetables)"
   ]
  },
  {
   "cell_type": "code",
   "execution_count": 9,
   "id": "0027e4a8",
   "metadata": {},
   "outputs": [
    {
     "data": {
      "text/plain": [
       "False"
      ]
     },
     "execution_count": 9,
     "metadata": {},
     "output_type": "execute_result"
    }
   ],
   "source": [
    "fruits = [\"apple\", \"banana\", \"pineapple\", \"jackfruit\"]\n",
    "vegetables = [\"celery\", \"potato\", \"broccoli\", \"kale\"]\n",
    "(\"peach\" in fruits) and (\"celery\" in vegetables)"
   ]
  },
  {
   "cell_type": "code",
   "execution_count": 10,
   "id": "d45c933b",
   "metadata": {},
   "outputs": [
    {
     "data": {
      "text/plain": [
       "False"
      ]
     },
     "execution_count": 10,
     "metadata": {},
     "output_type": "execute_result"
    }
   ],
   "source": [
    "colours = [\"red\", \"orange\", \"yellow\", \"green\"]\n",
    "ATLAcharacters = [\"aang\", \"sokka\", \"katara\", \"toph\"]\n",
    "(\"blue\" in colours) or (\"appa\" in ATLAcharacters)"
   ]
  },
  {
   "cell_type": "code",
   "execution_count": 11,
   "id": "f6fc0ec2",
   "metadata": {},
   "outputs": [
    {
     "data": {
      "text/plain": [
       "False"
      ]
     },
     "execution_count": 11,
     "metadata": {},
     "output_type": "execute_result"
    }
   ],
   "source": [
    "'aang' > 'sokka' #english letters represented as numbers in  python"
   ]
  },
  {
   "cell_type": "code",
   "execution_count": 12,
   "id": "a5e45620",
   "metadata": {},
   "outputs": [
    {
     "data": {
      "text/plain": [
       "True"
      ]
     },
     "execution_count": 12,
     "metadata": {},
     "output_type": "execute_result"
    }
   ],
   "source": [
    "'appa' < 'katara'"
   ]
  },
  {
   "cell_type": "code",
   "execution_count": 13,
   "id": "f261d7ff",
   "metadata": {},
   "outputs": [
    {
     "data": {
      "text/plain": [
       "False"
      ]
     },
     "execution_count": 13,
     "metadata": {},
     "output_type": "execute_result"
    }
   ],
   "source": [
    "(x > 5) and (x < 15)"
   ]
  },
  {
   "cell_type": "code",
   "execution_count": 14,
   "id": "ce54ddcf",
   "metadata": {},
   "outputs": [
    {
     "data": {
      "text/plain": [
       "False"
      ]
     },
     "execution_count": 14,
     "metadata": {},
     "output_type": "execute_result"
    }
   ],
   "source": [
    "5 < x < 15"
   ]
  },
  {
   "cell_type": "markdown",
   "id": "e5afce96",
   "metadata": {},
   "source": [
    "### 1.4 There is more to if"
   ]
  },
  {
   "cell_type": "code",
   "execution_count": 15,
   "id": "7687d5e3",
   "metadata": {},
   "outputs": [
    {
     "name": "stdout",
     "output_type": "stream",
     "text": [
      "Hello Sidekick | Robin!\n"
     ]
    }
   ],
   "source": [
    "name = 'Robin'\n",
    "\n",
    "if name == 'Batman':\n",
    "    print('Hello Hero | Batman!')\n",
    "elif name == 'Robin':\n",
    "    print('Hello Sidekick | Robin!')\n",
    "else:\n",
    "    print('Hello World!')"
   ]
  },
  {
   "cell_type": "code",
   "execution_count": 16,
   "id": "c291b15c",
   "metadata": {},
   "outputs": [
    {
     "name": "stdout",
     "output_type": "stream",
     "text": [
      "hello friends!\n"
     ]
    }
   ],
   "source": [
    "name = 'Zuko'\n",
    "\n",
    "if name == 'Katara':\n",
    "    print('hello waterbending master')\n",
    "elif name == 'Sokka':\n",
    "    print('hello brother')\n",
    "else:\n",
    "    print('hello friends!')    #reminder! type out ''!!!"
   ]
  },
  {
   "cell_type": "code",
   "execution_count": 17,
   "id": "71925cef",
   "metadata": {},
   "outputs": [
    {
     "name": "stdout",
     "output_type": "stream",
     "text": [
      "FIREEEE\n"
     ]
    }
   ],
   "source": [
    "# testing if u can put multiple elif\n",
    "name = 'Zuko'\n",
    "\n",
    "if name == 'Katara':\n",
    "    print('WATERRRR')\n",
    "elif name == 'Sokka':\n",
    "    print('boomerang')\n",
    "elif name == 'Zuko':\n",
    "    print('FIREEEE')\n",
    "else:\n",
    "    print('hello friends!')"
   ]
  },
  {
   "cell_type": "markdown",
   "id": "6381c557",
   "metadata": {},
   "source": [
    "### 1.5 Python stores information in different formats or types."
   ]
  },
  {
   "cell_type": "markdown",
   "id": "fb893250",
   "metadata": {},
   "source": [
    "##### (int), (str), (float), (complex)"
   ]
  },
  {
   "cell_type": "code",
   "execution_count": 18,
   "id": "0d2f951d",
   "metadata": {},
   "outputs": [
    {
     "name": "stdout",
     "output_type": "stream",
     "text": [
      "1 <class 'int'>\n"
     ]
    }
   ],
   "source": [
    "# storing as integer (int)\n",
    "\n",
    "x = int(1.234)\n",
    "print(x, type(x))    #fn type(x) is used to check how info is stored"
   ]
  },
  {
   "cell_type": "code",
   "execution_count": 19,
   "id": "0856a073",
   "metadata": {},
   "outputs": [
    {
     "name": "stdout",
     "output_type": "stream",
     "text": [
      "2.345 <class 'str'>\n",
      "1.234 <class 'str'>\n"
     ]
    }
   ],
   "source": [
    "#storing as English word (str)\n",
    "\n",
    "x = str(2.345)\n",
    "print(x, type(x))\n",
    "\n",
    "x = '1.234'        # can change type of variable by putting ''\n",
    "print(x, type(x))  "
   ]
  },
  {
   "cell_type": "code",
   "execution_count": 20,
   "id": "b528855e",
   "metadata": {},
   "outputs": [
    {
     "name": "stdout",
     "output_type": "stream",
     "text": [
      "3.456 <class 'float'>\n"
     ]
    }
   ],
   "source": [
    "# storing as decimal (float)\n",
    "\n",
    "x = float(3.456)\n",
    "print(x, type(x))"
   ]
  },
  {
   "cell_type": "code",
   "execution_count": 21,
   "id": "feb672f1",
   "metadata": {},
   "outputs": [
    {
     "name": "stdout",
     "output_type": "stream",
     "text": [
      "12.0 <class 'float'>\n"
     ]
    }
   ],
   "source": [
    "x = 12\n",
    "x = float(x)\n",
    "print(x, type(x)) # typecasting"
   ]
  },
  {
   "cell_type": "code",
   "execution_count": 22,
   "id": "d5d7d5d9",
   "metadata": {},
   "outputs": [
    {
     "name": "stdout",
     "output_type": "stream",
     "text": [
      "(4.567+0j) <class 'complex'>\n"
     ]
    }
   ],
   "source": [
    "# storing as complex number (complex)\n",
    "\n",
    "x = complex(4.567)\n",
    "print(x, type(x))   #incl. imaginary part of number"
   ]
  },
  {
   "cell_type": "markdown",
   "id": "7404cb42",
   "metadata": {},
   "source": [
    "### 1.6 Combining English and variables"
   ]
  },
  {
   "cell_type": "code",
   "execution_count": 23,
   "id": "bd02d40c",
   "metadata": {},
   "outputs": [
    {
     "name": "stdout",
     "output_type": "stream",
     "text": [
      "Hello Katara!\n"
     ]
    }
   ],
   "source": [
    "name = 'Katara'\n",
    "print(f'Hello {name}!')   # doesnt matter if use '' or \"\"\n",
    "\n",
    "# f and {} is called f-string or string interpolation"
   ]
  },
  {
   "cell_type": "code",
   "execution_count": 24,
   "id": "a8e8bb38",
   "metadata": {},
   "outputs": [
    {
     "name": "stdout",
     "output_type": "stream",
     "text": [
      "Hello KATARA!\n"
     ]
    }
   ],
   "source": [
    "name = 'Katara'\n",
    "print(f'Hello {name.upper()}!')   # uppercase"
   ]
  },
  {
   "cell_type": "code",
   "execution_count": 25,
   "id": "3bd940d0",
   "metadata": {},
   "outputs": [
    {
     "name": "stdout",
     "output_type": "stream",
     "text": [
      "The value of 12 squared is 144!\n"
     ]
    }
   ],
   "source": [
    "x = 12\n",
    "print(f'The value of {x} squared is {x**2}!')"
   ]
  },
  {
   "cell_type": "code",
   "execution_count": 26,
   "id": "6e2df5c6",
   "metadata": {},
   "outputs": [
    {
     "name": "stdout",
     "output_type": "stream",
     "text": [
      "Aang is the last airbender.\n"
     ]
    }
   ],
   "source": [
    "text = 'Aang is the last airbender.'\n",
    "print(f'{text}')  #always rmb to close ''"
   ]
  },
  {
   "cell_type": "code",
   "execution_count": 27,
   "id": "8a92c1ae",
   "metadata": {},
   "outputs": [
    {
     "name": "stdout",
     "output_type": "stream",
     "text": [
      "AANG IS THE LAST AIRBENDER.\n",
      "Aang is the last airbender.\n",
      "   Aang is the last airbender.\n",
      " Aang is the last airbender.  \n",
      "Aang is the last airbender.   \n",
      "             Aang is the last airbender.\n"
     ]
    }
   ],
   "source": [
    "text = 'Aang is the last airbender.'\n",
    "# text is slightly less than 30 characters\n",
    "\n",
    "print(f'{text.upper():>10}') \n",
    "# test for uppercase\n",
    "\n",
    "print(f'{text:>20}')\n",
    "print(f'{text:>30}')\n",
    "print(f'{text:^30}')\n",
    "print(f'{text:<30}')\n",
    "print(f'{text:>40}')\n",
    "\n",
    "# :> align right, :^ align centre, :< align left"
   ]
  },
  {
   "cell_type": "code",
   "execution_count": 35,
   "id": "73b1a792",
   "metadata": {},
   "outputs": [
    {
     "name": "stdout",
     "output_type": "stream",
     "text": [
      "The cube of pi to 6 decimal places is 31.006277\n",
      "The square of pi to 8 decimal places is 9.86960440\n"
     ]
    }
   ],
   "source": [
    "print(f'The cube of pi to 6 decimal places is {np.pi**3:.6f}')\n",
    "# f in .6f tells f-string to output number in decimal notation\n",
    "# np. is numpy. -- can use math. also\n",
    "\n",
    "print(f'The square of pi to 8 decimal places is {np.pi**2:.8f}')"
   ]
  },
  {
   "cell_type": "code",
   "execution_count": 37,
   "id": "e1688e90",
   "metadata": {},
   "outputs": [
    {
     "name": "stdout",
     "output_type": "stream",
     "text": [
      "The square of pi to 8 decimal places is 9.86960440e+00\n"
     ]
    }
   ],
   "source": [
    "print(f'The square of pi to 8 decimal places is {np.pi**2:.8e}')\n",
    "# e in .8e tells f-string to output in scientific notation"
   ]
  },
  {
   "cell_type": "markdown",
   "id": "0befc12e",
   "metadata": {},
   "source": [
    "### 1.7 Python can be a prima-donna."
   ]
  },
  {
   "cell_type": "code",
   "execution_count": null,
   "id": "fcbd25f9",
   "metadata": {},
   "outputs": [],
   "source": [
    "\n",
    "# Your code here\n"
   ]
  },
  {
   "cell_type": "markdown",
   "id": "490bebfc",
   "metadata": {},
   "source": [
    "## 2 Best Practices for Scientific Computing"
   ]
  },
  {
   "cell_type": "markdown",
   "id": "f67b9ba7",
   "metadata": {},
   "source": [
    "### 2.1 Some tips"
   ]
  },
  {
   "cell_type": "code",
   "execution_count": null,
   "id": "622a10f9",
   "metadata": {},
   "outputs": [],
   "source": [
    "\n",
    "# Your code here\n"
   ]
  },
  {
   "cell_type": "markdown",
   "id": "1ca89126",
   "metadata": {},
   "source": [
    "### 2.2 Getting help."
   ]
  },
  {
   "cell_type": "code",
   "execution_count": null,
   "id": "86544e2e",
   "metadata": {},
   "outputs": [],
   "source": [
    "\n",
    "# Your code here\n"
   ]
  },
  {
   "cell_type": "markdown",
   "id": "cd65b1f1",
   "metadata": {},
   "source": [
    "## Exercise 1 :  Bias for some heroes"
   ]
  },
  {
   "cell_type": "code",
   "execution_count": null,
   "id": "a0e19e78",
   "metadata": {},
   "outputs": [],
   "source": [
    "\n",
    "\n",
    "\n",
    "# Your solution here\n",
    "\n",
    "\n"
   ]
  },
  {
   "cell_type": "markdown",
   "id": "7df6889c",
   "metadata": {},
   "source": [
    "## Exercise 2 :  Bias for some heroes, continues"
   ]
  },
  {
   "cell_type": "code",
   "execution_count": null,
   "id": "4366896c",
   "metadata": {},
   "outputs": [],
   "source": [
    "\n",
    "\n",
    "\n",
    "# Your solution here\n",
    "\n",
    "\n"
   ]
  },
  {
   "cell_type": "markdown",
   "id": "98911956",
   "metadata": {},
   "source": [
    "## Exercise 3 :  Look for help to replace"
   ]
  },
  {
   "cell_type": "code",
   "execution_count": null,
   "id": "7661a84c",
   "metadata": {},
   "outputs": [],
   "source": [
    "\n",
    "\n",
    "\n",
    "# Your solution here\n",
    "\n",
    "\n"
   ]
  }
 ],
 "metadata": {
  "kernelspec": {
   "display_name": "Python 3 (ipykernel)",
   "language": "python",
   "name": "python3"
  },
  "language_info": {
   "codemirror_mode": {
    "name": "ipython",
    "version": 3
   },
   "file_extension": ".py",
   "mimetype": "text/x-python",
   "name": "python",
   "nbconvert_exporter": "python",
   "pygments_lexer": "ipython3",
   "version": "3.10.8"
  },
  "toc": {
   "base_numbering": 1,
   "nav_menu": {},
   "number_sections": true,
   "sideBar": true,
   "skip_h1_title": false,
   "title_cell": "Table of Contents",
   "title_sidebar": "Contents",
   "toc_cell": false,
   "toc_position": {},
   "toc_section_display": true,
   "toc_window_display": false
  },
  "varInspector": {
   "cols": {
    "lenName": 16,
    "lenType": 16,
    "lenVar": 40
   },
   "kernels_config": {
    "python": {
     "delete_cmd_postfix": "",
     "delete_cmd_prefix": "del ",
     "library": "var_list.py",
     "varRefreshCmd": "print(var_dic_list())"
    },
    "r": {
     "delete_cmd_postfix": ") ",
     "delete_cmd_prefix": "rm(",
     "library": "var_list.r",
     "varRefreshCmd": "cat(var_dic_list()) "
    }
   },
   "types_to_exclude": [
    "module",
    "function",
    "builtin_function_or_method",
    "instance",
    "_Feature"
   ],
   "window_display": false
  },
  "vscode": {
   "interpreter": {
    "hash": "31f2aee4e71d21fbe5cf8b01ff0e069b9275f58929596ceb00d14d90e3e16cd6"
   }
  }
 },
 "nbformat": 4,
 "nbformat_minor": 5
}
