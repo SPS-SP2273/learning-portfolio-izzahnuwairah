{
 "cells": [
  {
   "cell_type": "markdown",
   "id": "123456",
   "metadata": {},
   "source": [
    "<div style=\"text-align:left;font-size:2em\"><span style=\"font-weight:bolder;font-size:1.25em\">SP2273 | Learning Portfolio</span><br><br><span style=\"font-weight:bold;color:darkred\">Storing Data (Need)</span></div>"
   ]
  },
  {
   "cell_type": "markdown",
   "id": "57b11024",
   "metadata": {},
   "source": [
    "## 1 Lists, Arrays & Dictionaries"
   ]
  },
  {
   "cell_type": "markdown",
   "id": "10f1ca03",
   "metadata": {},
   "source": [
    "### 1.1 Let’s compare"
   ]
  },
  {
   "cell_type": "code",
   "execution_count": 1,
   "id": "3e58a574",
   "metadata": {},
   "outputs": [],
   "source": [
    "import numpy as np"
   ]
  },
  {
   "cell_type": "code",
   "execution_count": 2,
   "id": "0eef515d",
   "metadata": {},
   "outputs": [],
   "source": [
    "# python list\n",
    "\n",
    "py_atla_names = ['Aang', 'Katara', 'Toph', 'Zuko']\n",
    "py_bender = ['Air', 'Water', 'Earth', 'Fire']"
   ]
  },
  {
   "cell_type": "code",
   "execution_count": 3,
   "id": "06ba9b79",
   "metadata": {},
   "outputs": [],
   "source": [
    "# numpy arrays\n",
    "\n",
    "np_atla_names = np.array(['Aang', 'Katara', 'Toph', 'Zuko'])\n",
    "np_bender = np.array(['Air', 'Water', 'Earth', 'Fire'])"
   ]
  },
  {
   "cell_type": "code",
   "execution_count": 4,
   "id": "db112a6e",
   "metadata": {},
   "outputs": [],
   "source": [
    "# dictionary\n",
    "bender_info = {'Aang': 'Air',\n",
    "              'Katara': 'Water',\n",
    "              'Toph': 'Earth',\n",
    "              'Zuko': 'Fire'\n",
    "              }"
   ]
  },
  {
   "cell_type": "markdown",
   "id": "8c102740",
   "metadata": {},
   "source": [
    "### 1.2 Accessing data from a list (or array)"
   ]
  },
  {
   "cell_type": "code",
   "execution_count": 5,
   "id": "f872ffa6",
   "metadata": {},
   "outputs": [
    {
     "name": "stdout",
     "output_type": "stream",
     "text": [
      "Toph\n",
      "Earth\n",
      "Zuko\n",
      "Katara\n"
     ]
    }
   ],
   "source": [
    "# python starts counting at 0\n",
    "print(py_atla_names[2])\n",
    "print(py_bender[2])      # forward indexing - need to know size\n",
    "print(py_atla_names[-1]) # reverse indexing - no need to know size\n",
    "print(py_atla_names[-3])"
   ]
  },
  {
   "cell_type": "markdown",
   "id": "03364eef",
   "metadata": {},
   "source": [
    "### 1.3 Accessing data from a dictionary"
   ]
  },
  {
   "cell_type": "code",
   "execution_count": 6,
   "id": "3606301c",
   "metadata": {},
   "outputs": [
    {
     "name": "stdout",
     "output_type": "stream",
     "text": [
      "Water\n"
     ]
    }
   ],
   "source": [
    "print(bender_info['Katara'])"
   ]
  },
  {
   "cell_type": "code",
   "execution_count": 7,
   "id": "9ee25daa",
   "metadata": {},
   "outputs": [
    {
     "data": {
      "text/plain": [
       "dict_keys(['Aang', 'Katara', 'Toph', 'Zuko'])"
      ]
     },
     "execution_count": 7,
     "metadata": {},
     "output_type": "execute_result"
    }
   ],
   "source": [
    "bender_info.keys()"
   ]
  },
  {
   "cell_type": "code",
   "execution_count": 8,
   "id": "376e1f7f",
   "metadata": {},
   "outputs": [
    {
     "data": {
      "text/plain": [
       "dict_values(['Air', 'Water', 'Earth', 'Fire'])"
      ]
     },
     "execution_count": 8,
     "metadata": {},
     "output_type": "execute_result"
    }
   ],
   "source": [
    "bender_info.values() # list of 'definitions'"
   ]
  },
  {
   "cell_type": "markdown",
   "id": "9355347e",
   "metadata": {},
   "source": [
    "### 1.4 Higher dimensional lists"
   ]
  },
  {
   "cell_type": "code",
   "execution_count": 9,
   "id": "3ad4ca3f",
   "metadata": {},
   "outputs": [],
   "source": [
    "py_bender_info = [['Aang', 'Air'],\n",
    "                   ['Katara', 'Water'],\n",
    "                   ['Toph', 'Earth'],\n",
    "                   ['Zuko', 'Fire']]"
   ]
  },
  {
   "cell_type": "markdown",
   "id": "a3802315",
   "metadata": {},
   "source": [
    "## 2 Lists vs. Arrays"
   ]
  },
  {
   "cell_type": "markdown",
   "id": "6eb5daaf",
   "metadata": {},
   "source": [
    "### 2.1 Size"
   ]
  },
  {
   "cell_type": "code",
   "execution_count": 10,
   "id": "47c9d40e",
   "metadata": {},
   "outputs": [
    {
     "data": {
      "text/plain": [
       "4"
      ]
     },
     "execution_count": 10,
     "metadata": {},
     "output_type": "execute_result"
    }
   ],
   "source": [
    "# setup\n",
    "py_list_2d = [['Aang', 'Air'], ['Katara', 'Water'], ['Toph', 'Earth'],\n",
    "              ['Zuko', 'Fire']]\n",
    "\n",
    "np_array_2d = np.array(py_list_2d)    # np.array converts the python list to a numpy array\n",
    "len(py_list_2d)  # len fn to tell list size"
   ]
  },
  {
   "cell_type": "code",
   "execution_count": 11,
   "id": "74f23c61",
   "metadata": {},
   "outputs": [
    {
     "data": {
      "text/plain": [
       "(4, 2)"
      ]
     },
     "execution_count": 11,
     "metadata": {},
     "output_type": "execute_result"
    }
   ],
   "source": [
    "np_array_2d.shape\n",
    "# shape is not a function\n",
    "# it is a property or attribute of the NumPy array"
   ]
  },
  {
   "cell_type": "markdown",
   "id": "50a71f92",
   "metadata": {},
   "source": [
    "### 2.2 Arrays are fussy about type"
   ]
  },
  {
   "cell_type": "code",
   "execution_count": 12,
   "id": "f0abbb44",
   "metadata": {},
   "outputs": [],
   "source": [
    "# arrays like having a single data type\n",
    "# lists are more accommodating"
   ]
  },
  {
   "cell_type": "code",
   "execution_count": 13,
   "id": "a63b2f46",
   "metadata": {},
   "outputs": [
    {
     "data": {
      "text/plain": [
       "array(['1', '1.5', 'A'], dtype='<U32')"
      ]
     },
     "execution_count": 13,
     "metadata": {},
     "output_type": "execute_result"
    }
   ],
   "source": [
    "py_list = [1, 1.5, 'A']\n",
    "np.array(py_list)\n",
    "\n",
    "\n",
    "# NumPy arrays tolerate only a single type\n",
    "# numbers are converted to English (' ') \n",
    "# when we create the NumPy array\n",
    "\n",
    "# can easily change type (typecast) using the ‘hidden’ function astypes()"
   ]
  },
  {
   "cell_type": "markdown",
   "id": "54282741",
   "metadata": {},
   "source": [
    "### 2.3 Adding a number"
   ]
  },
  {
   "cell_type": "code",
   "execution_count": 14,
   "id": "9e4fcb7e",
   "metadata": {},
   "outputs": [],
   "source": [
    "py_list = [1, 2, 3, 4, 5]\n",
    "np_array = np.array(py_list) "
   ]
  },
  {
   "cell_type": "code",
   "execution_count": 15,
   "id": "bc2c71c6",
   "metadata": {},
   "outputs": [
    {
     "data": {
      "text/plain": [
       "array([11, 12, 13, 14, 15])"
      ]
     },
     "execution_count": 15,
     "metadata": {},
     "output_type": "execute_result"
    }
   ],
   "source": [
    "# py_list + 10 -- this wont work!\n",
    "\n",
    "np_array + 10 # adds 10 to each value in the list"
   ]
  },
  {
   "cell_type": "markdown",
   "id": "b8d862f2",
   "metadata": {},
   "source": [
    "### 2.4 Adding another list"
   ]
  },
  {
   "cell_type": "code",
   "execution_count": 16,
   "id": "5ed437f6",
   "metadata": {},
   "outputs": [],
   "source": [
    "# set up\n",
    "py_list_1 = [1, 2, 3, 4, 5]\n",
    "py_list_2 = [19, 20, 21, 22, 23]\n",
    "\n",
    "np_array_1 = np.array(py_list_1)\n",
    "np_array_2 = np.array(py_list_2)"
   ]
  },
  {
   "cell_type": "code",
   "execution_count": 17,
   "id": "c119448f",
   "metadata": {},
   "outputs": [
    {
     "data": {
      "text/plain": [
       "[1, 2, 3, 4, 5, 19, 20, 21, 22, 23]"
      ]
     },
     "execution_count": 17,
     "metadata": {},
     "output_type": "execute_result"
    }
   ],
   "source": [
    "py_list_1 + py_list_2   # adds the lists tgt - just makes it longer"
   ]
  },
  {
   "cell_type": "code",
   "execution_count": 18,
   "id": "d5a497a7",
   "metadata": {},
   "outputs": [
    {
     "data": {
      "text/plain": [
       "array([20, 22, 24, 26, 28])"
      ]
     },
     "execution_count": 18,
     "metadata": {},
     "output_type": "execute_result"
    }
   ],
   "source": [
    "np_array_1 + np_array_2   # adds the values in the lists"
   ]
  },
  {
   "cell_type": "markdown",
   "id": "7a811f0d",
   "metadata": {},
   "source": [
    "### 2.5 Multiplying by a Number"
   ]
  },
  {
   "cell_type": "code",
   "execution_count": 19,
   "id": "ed9cc120",
   "metadata": {},
   "outputs": [],
   "source": [
    "py_list = [1, 2, 3, 4, 5]\n",
    "np_array = np.array(py_list)"
   ]
  },
  {
   "cell_type": "code",
   "execution_count": 20,
   "id": "5068318d",
   "metadata": {},
   "outputs": [
    {
     "data": {
      "text/plain": [
       "[1, 2, 3, 4, 5, 1, 2, 3, 4, 5]"
      ]
     },
     "execution_count": 20,
     "metadata": {},
     "output_type": "execute_result"
    }
   ],
   "source": [
    "py_list*2  # just repeat the values in the list"
   ]
  },
  {
   "cell_type": "code",
   "execution_count": 21,
   "id": "3c0dfe52",
   "metadata": {},
   "outputs": [
    {
     "data": {
      "text/plain": [
       "array([ 6, 12, 18, 24, 30])"
      ]
     },
     "execution_count": 21,
     "metadata": {},
     "output_type": "execute_result"
    }
   ],
   "source": [
    "np_array*6 # multiply the values in the array by 6"
   ]
  },
  {
   "cell_type": "markdown",
   "id": "64f0f237",
   "metadata": {},
   "source": [
    "### 2.6 Squaring"
   ]
  },
  {
   "cell_type": "code",
   "execution_count": 22,
   "id": "84c621fe",
   "metadata": {},
   "outputs": [
    {
     "data": {
      "text/plain": [
       "array([ 1,  4,  9, 16, 25])"
      ]
     },
     "execution_count": 22,
     "metadata": {},
     "output_type": "execute_result"
    }
   ],
   "source": [
    "py_list = [1, 2, 3, 4, 5]\n",
    "np_array = np.array(py_list)\n",
    "# py_list**2 --> Won't work\n",
    "np_array**2  # squares the values in the array"
   ]
  },
  {
   "cell_type": "markdown",
   "id": "9c769b35",
   "metadata": {},
   "source": [
    "### 2.7 Asking questions"
   ]
  },
  {
   "cell_type": "code",
   "execution_count": 23,
   "id": "1249356c",
   "metadata": {},
   "outputs": [],
   "source": [
    "py_list = [1, 2, 3, 4, 5]\n",
    "np_array = np.array(py_list)"
   ]
  },
  {
   "cell_type": "code",
   "execution_count": 24,
   "id": "65f61802",
   "metadata": {},
   "outputs": [
    {
     "data": {
      "text/plain": [
       "False"
      ]
     },
     "execution_count": 24,
     "metadata": {},
     "output_type": "execute_result"
    }
   ],
   "source": [
    "# list\n",
    "py_list == 3 # the qn is; is the list = 3, the answer will always be false bc a list cannot = number"
   ]
  },
  {
   "cell_type": "code",
   "execution_count": 25,
   "id": "4e490099",
   "metadata": {},
   "outputs": [
    {
     "data": {
      "text/plain": [
       "array([False,  True, False, False, False])"
      ]
     },
     "execution_count": 25,
     "metadata": {},
     "output_type": "execute_result"
    }
   ],
   "source": [
    "np_array == 2"
   ]
  },
  {
   "cell_type": "code",
   "execution_count": 26,
   "id": "b6360dde",
   "metadata": {},
   "outputs": [
    {
     "data": {
      "text/plain": [
       "array([ True,  True, False, False, False])"
      ]
     },
     "execution_count": 26,
     "metadata": {},
     "output_type": "execute_result"
    }
   ],
   "source": [
    "np_array < 3  "
   ]
  },
  {
   "cell_type": "markdown",
   "id": "e6b9fda4",
   "metadata": {},
   "source": [
    "### 2.8 Mathematics"
   ]
  },
  {
   "cell_type": "code",
   "execution_count": 27,
   "id": "680c139e",
   "metadata": {},
   "outputs": [],
   "source": [
    "py_list = [1, 2, 3, 4, 5, 6, 7]\n",
    "np_array = np.array(py_list)         "
   ]
  },
  {
   "cell_type": "code",
   "execution_count": 28,
   "id": "445f6e51",
   "metadata": {},
   "outputs": [
    {
     "name": "stdout",
     "output_type": "stream",
     "text": [
      "28\n",
      "7\n",
      "1\n"
     ]
    }
   ],
   "source": [
    "#py_list\n",
    "\n",
    "print(sum(py_list)) # sum() -- sum of all values in the list\n",
    "print(max(py_list)) # max() -- max value in the list\n",
    "print(min(py_list)) # min() -- min value in list\n",
    "\n",
    "# py_list.sum()   # Won't work!"
   ]
  },
  {
   "cell_type": "code",
   "execution_count": 29,
   "id": "73689fcb",
   "metadata": {},
   "outputs": [
    {
     "name": "stdout",
     "output_type": "stream",
     "text": [
      "28\n",
      "4.0\n",
      "1\n",
      "7\n"
     ]
    }
   ],
   "source": [
    "#np_array\n",
    "\n",
    "print(np_array.sum())\n",
    "print(np_array.mean())\n",
    "print(np_array.min())\n",
    "print(np_array.max())"
   ]
  },
  {
   "cell_type": "markdown",
   "id": "2f3a21ec",
   "metadata": {},
   "source": [
    "## Exercise 1 :  Total recall?"
   ]
  },
  {
   "cell_type": "markdown",
   "id": "7c754d2d",
   "metadata": {},
   "source": [
    "Similarities btwn list & arrays\n",
    "1. they're both technically just lists, meaning they store information in a list\n",
    "1. they both can be indexed (uses 0 based index)\n",
    "\n",
    "Differences btwn list & arrays\n",
    "1. when adding/multiplying, a list just grows longer but an array would add/multiply the values in the array\n",
    "1. arrays can only tolerate a single type while lists are more accommodating\n",
    "\n",
    "What is a dictionary?\n",
    "- 'list' that holds a key with an associated 'definition'  "
   ]
  },
  {
   "cell_type": "markdown",
   "id": "e48ce821",
   "metadata": {},
   "source": [
    "## Exercise 2 :  Index me"
   ]
  },
  {
   "cell_type": "code",
   "execution_count": 30,
   "id": "fd8666f3",
   "metadata": {},
   "outputs": [
    {
     "name": "stdout",
     "output_type": "stream",
     "text": [
      "a1 c3 e5 g7 i9\n"
     ]
    }
   ],
   "source": [
    "py_list = [\"a1\", \"b2\", \"c3\", \"d4\", \"e5\", \"f6\", \"g7\", \"h8\", \"i9\", \"j10\"]\n",
    "                    # Prints 'a1'\n",
    "                    # Prints 'c3'\n",
    "                    # Prints 'e5'\n",
    "                    # Prints 'g7'\n",
    "print(py_list[0], py_list[2],py_list[4],py_list[6],py_list[8])   # Prints 'i9'"
   ]
  },
  {
   "cell_type": "markdown",
   "id": "7cb1a868",
   "metadata": {},
   "source": [
    "## Exercise 3 :  Capitalise Heros"
   ]
  },
  {
   "cell_type": "code",
   "execution_count": 31,
   "id": "3102ec23",
   "metadata": {},
   "outputs": [
    {
     "name": "stdout",
     "output_type": "stream",
     "text": [
      "{'Natasha Romanoff': 'BLACK WIDOW', 'Tony Stark': 'IRON MAN', 'Stephen Strange': 'DOCTOR STRANGE'}\n"
     ]
    }
   ],
   "source": [
    "superhero_info = {\"Natasha Romanoff\": \"Black Widow\",\n",
    "                  \"Tony Stark\": \"Iron Man\",\n",
    "                  \"Stephen Strange\": \"Doctor Strange\"\n",
    "                  }\n",
    "\n",
    "superhero_info['Tony Stark'] = superhero_info['Tony Stark'].upper()     \n",
    "superhero_info['Natasha Romanoff'] = superhero_info['Natasha Romanoff'].upper()\n",
    "superhero_info['Stephen Strange'] = superhero_info['Stephen Strange'].upper()\n",
    "print(superhero_info)"
   ]
  },
  {
   "cell_type": "markdown",
   "id": "277f2a62",
   "metadata": {},
   "source": [
    "## Exercise 4 :  How many ones"
   ]
  },
  {
   "cell_type": "code",
   "execution_count": 32,
   "id": "a6633611",
   "metadata": {},
   "outputs": [],
   "source": [
    "numbers=[45, 60, 1, 30, 96, 1, 96, 57, 16, 1,\n",
    "        99, 62, 86, 43, 42, 60, 59, 1, 1, 35,\n",
    "        83, 47, 34, 28, 68, 23, 22, 92, 1, 79,\n",
    "        1, 29, 94, 72, 46, 47, 1, 74, 32, 20,\n",
    "        8, 37, 35, 1, 89, 29, 86, 19, 43, 61]    \n",
    "np_array = np.array(numbers)"
   ]
  },
  {
   "cell_type": "code",
   "execution_count": 33,
   "id": "ff4f9a8f",
   "metadata": {},
   "outputs": [
    {
     "data": {
      "text/plain": [
       "9"
      ]
     },
     "execution_count": 33,
     "metadata": {},
     "output_type": "execute_result"
    }
   ],
   "source": [
    "x = np_array == 1 \n",
    "x.sum()"
   ]
  },
  {
   "cell_type": "code",
   "execution_count": 34,
   "id": "4af4460c",
   "metadata": {},
   "outputs": [
    {
     "data": {
      "text/plain": [
       "9"
      ]
     },
     "execution_count": 34,
     "metadata": {},
     "output_type": "execute_result"
    }
   ],
   "source": [
    "sum(np_array == 1) # this works too!"
   ]
  }
 ],
 "metadata": {
  "kernelspec": {
   "display_name": "Python 3 (ipykernel)",
   "language": "python",
   "name": "python3"
  },
  "language_info": {
   "codemirror_mode": {
    "name": "ipython",
    "version": 3
   },
   "file_extension": ".py",
   "mimetype": "text/x-python",
   "name": "python",
   "nbconvert_exporter": "python",
   "pygments_lexer": "ipython3",
   "version": "3.10.8"
  },
  "toc": {
   "base_numbering": 1,
   "nav_menu": {},
   "number_sections": true,
   "sideBar": true,
   "skip_h1_title": false,
   "title_cell": "Table of Contents",
   "title_sidebar": "Contents",
   "toc_cell": false,
   "toc_position": {},
   "toc_section_display": true,
   "toc_window_display": false
  },
  "varInspector": {
   "cols": {
    "lenName": 16,
    "lenType": 16,
    "lenVar": 40
   },
   "kernels_config": {
    "python": {
     "delete_cmd_postfix": "",
     "delete_cmd_prefix": "del ",
     "library": "var_list.py",
     "varRefreshCmd": "print(var_dic_list())"
    },
    "r": {
     "delete_cmd_postfix": ") ",
     "delete_cmd_prefix": "rm(",
     "library": "var_list.r",
     "varRefreshCmd": "cat(var_dic_list()) "
    }
   },
   "types_to_exclude": [
    "module",
    "function",
    "builtin_function_or_method",
    "instance",
    "_Feature"
   ],
   "window_display": false
  },
  "vscode": {
   "interpreter": {
    "hash": "31f2aee4e71d21fbe5cf8b01ff0e069b9275f58929596ceb00d14d90e3e16cd6"
   }
  }
 },
 "nbformat": 4,
 "nbformat_minor": 5
}
