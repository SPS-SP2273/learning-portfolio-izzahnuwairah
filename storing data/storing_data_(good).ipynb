{
 "cells": [
  {
   "cell_type": "markdown",
   "id": "123456",
   "metadata": {},
   "source": [
    "<div style=\"text-align:left;font-size:2em\"><span style=\"font-weight:bolder;font-size:1.25em\">SP2273 | Learning Portfolio</span><br><br><span style=\"font-weight:bold;color:darkred\">Storing Data (Good)</span></div>"
   ]
  },
  {
   "cell_type": "code",
   "execution_count": 1,
   "id": "a90a1698",
   "metadata": {},
   "outputs": [],
   "source": [
    "import numpy as np"
   ]
  },
  {
   "cell_type": "markdown",
   "id": "ed6dee0a",
   "metadata": {},
   "source": [
    "## 1 Subsetting: Indexing and Slicing"
   ]
  },
  {
   "cell_type": "markdown",
   "id": "b06cdcc9",
   "metadata": {},
   "source": [
    "### 1.1 Indexing & Slicing 1D (Lists & Arrays)"
   ]
  },
  {
   "cell_type": "code",
   "execution_count": 2,
   "id": "d1b8b445",
   "metadata": {},
   "outputs": [],
   "source": [
    "# Subsetting: ‘select’.\n",
    "# Indexing: select one element\n",
    "# Slicing: select a range of elements\n",
    "\n",
    "py_list=['red', 'orange', 'yellow', 'green', 'blue',\n",
    "        'indigo', 'violet', 'white', 'black', 'pink']\n",
    "np_array = np.array(py_list)\n",
    "x = np_array"
   ]
  },
  {
   "cell_type": "code",
   "execution_count": 3,
   "id": "b5576f46",
   "metadata": {},
   "outputs": [
    {
     "name": "stdout",
     "output_type": "stream",
     "text": [
      "red\n",
      "pink\n",
      "['red' 'orange' 'yellow' 'green']\n",
      "['red' 'orange' 'yellow' 'green']\n",
      "['green' 'blue' 'indigo' 'violet' 'white' 'black']\n",
      "['orange' 'green' 'indigo']\n",
      "['red' 'green' 'violet']\n",
      "['green' 'blue' 'indigo' 'violet' 'white' 'black' 'pink']\n",
      "['indigo' 'blue' 'green']\n",
      "['indigo' 'green']\n",
      "['pink' 'black' 'white' 'violet' 'indigo' 'blue' 'green' 'yellow' 'orange'\n",
      " 'red']\n"
     ]
    }
   ],
   "source": [
    "print(x[0]) # 1st element\n",
    "print(x[-1]) # last element\n",
    "\n",
    "# to index 0-3\n",
    "print(x[0:4]) # gives 4-0= 4 elements\n",
    "print(x[:4])  # gives first for elements\n",
    "\n",
    "# to index 3-8\n",
    "print(x[3:9]) # gives 9-3= 6 elements\n",
    "\n",
    "# to index 1-5 in steps of 2 (every 2 elements)\n",
    "print(x[1:6:2]) # gives every other element of 6-1 = 5\n",
    "print(x[0:8:3])\n",
    "\n",
    "# to index 3 to the end\n",
    "print(x[3:]) # gives len(x)-3 = 10-3 = 7\n",
    "\n",
    "# index 5-3 in reverse\n",
    "print(x[5:2:-1]) # gives 3 elements\n",
    "print(x[5:2:-2]) # in steps of two but reverse\n",
    "\n",
    "# reverse whole list\n",
    "print(x[::-1])"
   ]
  },
  {
   "cell_type": "markdown",
   "id": "2a95155b",
   "metadata": {},
   "source": [
    "### 1.2 Subsetting by masking (Arrays only)"
   ]
  },
  {
   "cell_type": "code",
   "execution_count": 4,
   "id": "2085cfa7",
   "metadata": {},
   "outputs": [
    {
     "name": "stdout",
     "output_type": "stream",
     "text": [
      "[False False False False  True  True  True  True  True  True]\n"
     ]
    }
   ],
   "source": [
    "np_array = np.array([1, 2, 3, 4, 5, 6, 7, 8, 9, 10])\n",
    "my_mask = np_array > 4\n",
    "print(my_mask)"
   ]
  },
  {
   "cell_type": "code",
   "execution_count": 5,
   "id": "b1f8b999",
   "metadata": {},
   "outputs": [
    {
     "name": "stdout",
     "output_type": "stream",
     "text": [
      "[False False False False  True  True  True  True  True  True]\n"
     ]
    }
   ],
   "source": [
    "print(np_array > 4) # same"
   ]
  },
  {
   "cell_type": "code",
   "execution_count": 6,
   "id": "593edefb",
   "metadata": {},
   "outputs": [
    {
     "data": {
      "text/plain": [
       "array([ 5,  6,  7,  8,  9, 10])"
      ]
     },
     "execution_count": 6,
     "metadata": {},
     "output_type": "execute_result"
    }
   ],
   "source": [
    "np_array[my_mask] # masking only shows the TRUE subset \n",
    "#only works with numpy arrays"
   ]
  },
  {
   "cell_type": "code",
   "execution_count": 7,
   "id": "92180782",
   "metadata": {},
   "outputs": [
    {
     "data": {
      "text/plain": [
       "array([ 5,  6,  7,  8,  9, 10])"
      ]
     },
     "execution_count": 7,
     "metadata": {},
     "output_type": "execute_result"
    }
   ],
   "source": [
    "np_array[np_array > 4] # works too!"
   ]
  },
  {
   "cell_type": "code",
   "execution_count": 8,
   "id": "d312f4e7",
   "metadata": {},
   "outputs": [
    {
     "data": {
      "text/plain": [
       "array([1, 2, 3, 4])"
      ]
     },
     "execution_count": 8,
     "metadata": {},
     "output_type": "execute_result"
    }
   ],
   "source": [
    "# ~ = bitwise not operator,, basically just means NO\n",
    "np_array[~(np_array > 4)]  # tldr: inverse the selection"
   ]
  },
  {
   "cell_type": "code",
   "execution_count": 9,
   "id": "66e49a71",
   "metadata": {},
   "outputs": [
    {
     "data": {
      "text/plain": [
       "array([5, 6])"
      ]
     },
     "execution_count": 9,
     "metadata": {},
     "output_type": "execute_result"
    }
   ],
   "source": [
    "# & means and (duh hahaha)\n",
    "np_array[(np_array > 4) & (np_array <7)]"
   ]
  },
  {
   "cell_type": "code",
   "execution_count": 10,
   "id": "268ae0e9",
   "metadata": {},
   "outputs": [
    {
     "data": {
      "text/plain": [
       "array([ 8,  9, 10])"
      ]
     },
     "execution_count": 10,
     "metadata": {},
     "output_type": "execute_result"
    }
   ],
   "source": [
    "np_array[(np_array > 4) & (np_array > 7)] \n",
    "# true for both > 4 AND > 7"
   ]
  },
  {
   "cell_type": "code",
   "execution_count": 11,
   "id": "cc4f4360",
   "metadata": {},
   "outputs": [
    {
     "data": {
      "text/plain": [
       "array([ 1,  2,  3,  4,  7,  8,  9, 10])"
      ]
     },
     "execution_count": 11,
     "metadata": {},
     "output_type": "execute_result"
    }
   ],
   "source": [
    "np_array[~((np_array > 4) & (np_array <7))] \n",
    "# ~ bracket must encompass the whole selection that you want to inverse"
   ]
  },
  {
   "cell_type": "code",
   "execution_count": 12,
   "id": "77585662",
   "metadata": {},
   "outputs": [
    {
     "data": {
      "text/plain": [
       "array([ 1,  2,  9, 10])"
      ]
     },
     "execution_count": 12,
     "metadata": {},
     "output_type": "execute_result"
    }
   ],
   "source": [
    "np_array[(np_array < 3) | (np_array > 8)] \n",
    "# | means or ,,, true for < 3 OR > 8 i.e need to fulfill one req only"
   ]
  },
  {
   "cell_type": "markdown",
   "id": "ed47cd12",
   "metadata": {},
   "source": [
    "### 1.3 Indexing & Slicing 2D Lists"
   ]
  },
  {
   "cell_type": "code",
   "execution_count": 13,
   "id": "3667dc2d",
   "metadata": {},
   "outputs": [],
   "source": [
    "py_list_2d = [[1, \"Ant\"], [2, \"Bear\"], [3, \"Cat\"], [4, \"Dog\"],\n",
    "              [5, \"Eagle\"], [6, \"Frog\"], [7, \"Giraffe\"], [8, \"Hippo\"],\n",
    "              [9, \"Iguana\"], [10, \"Jaguar\"]]"
   ]
  },
  {
   "cell_type": "code",
   "execution_count": 14,
   "id": "bfc97c1b",
   "metadata": {},
   "outputs": [
    {
     "data": {
      "text/plain": [
       "[7, 'Giraffe']"
      ]
     },
     "execution_count": 14,
     "metadata": {},
     "output_type": "execute_result"
    }
   ],
   "source": [
    "py_list_2d[6] # element at postion 7 (index 6)"
   ]
  },
  {
   "cell_type": "code",
   "execution_count": 15,
   "id": "2be72c6e",
   "metadata": {},
   "outputs": [
    {
     "data": {
      "text/plain": [
       "8"
      ]
     },
     "execution_count": 15,
     "metadata": {},
     "output_type": "execute_result"
    }
   ],
   "source": [
    "py_list_2d[7][0]     # FIRST element at position 8 (index 7)"
   ]
  },
  {
   "cell_type": "code",
   "execution_count": 16,
   "id": "de2eb768",
   "metadata": {},
   "outputs": [
    {
     "data": {
      "text/plain": [
       "[[1, 'Ant'], [2, 'Bear'], [3, 'Cat']]"
      ]
     },
     "execution_count": 16,
     "metadata": {},
     "output_type": "execute_result"
    }
   ],
   "source": [
    "py_list_2d[:3]  #first 3 elements"
   ]
  },
  {
   "cell_type": "code",
   "execution_count": 17,
   "id": "eb6db6d2",
   "metadata": {},
   "outputs": [
    {
     "data": {
      "text/plain": [
       "[1, 'Ant']"
      ]
     },
     "execution_count": 17,
     "metadata": {},
     "output_type": "execute_result"
    }
   ],
   "source": [
    "py_list_2d[:3][0] # first elements from the selected list"
   ]
  },
  {
   "cell_type": "code",
   "execution_count": 18,
   "id": "76089fd9",
   "metadata": {},
   "outputs": [
    {
     "data": {
      "text/plain": [
       "[5, 'Eagle']"
      ]
     },
     "execution_count": 18,
     "metadata": {},
     "output_type": "execute_result"
    }
   ],
   "source": [
    "py_list_2d[4:7][0] \n",
    "# before :, first element index 4, after : second element index 7"
   ]
  },
  {
   "cell_type": "code",
   "execution_count": 19,
   "id": "467ec089",
   "metadata": {},
   "outputs": [
    {
     "data": {
      "text/plain": [
       "[[6, 'Frog'], [7, 'Giraffe'], [8, 'Hippo'], [9, 'Iguana'], [10, 'Jaguar']]"
      ]
     },
     "execution_count": 19,
     "metadata": {},
     "output_type": "execute_result"
    }
   ],
   "source": [
    "py_list_2d[5:] # elements from index 5 onwards"
   ]
  },
  {
   "cell_type": "markdown",
   "id": "e3a10527",
   "metadata": {},
   "source": [
    "### 1.4 Indexing & Slicing 2D Arrays"
   ]
  },
  {
   "cell_type": "code",
   "execution_count": 20,
   "id": "48ccd5af",
   "metadata": {},
   "outputs": [],
   "source": [
    "np_array_2d = np.array([[1, \"Ant\"], [2, \"Bear\"], [3, \"Cat\"], [4, \"Dog\"],\n",
    "                       [5, \"Eagle\"], [6, \"Frog\"], [7, \"Giraffe\"], [8, \"Hippo\"],\n",
    "                       [9, \"Iguana\"], [10, \"Jaguar\"]])"
   ]
  },
  {
   "cell_type": "code",
   "execution_count": 21,
   "id": "61ef145e",
   "metadata": {},
   "outputs": [
    {
     "data": {
      "text/plain": [
       "array(['6', 'Frog'], dtype='<U11')"
      ]
     },
     "execution_count": 21,
     "metadata": {},
     "output_type": "execute_result"
    }
   ],
   "source": [
    "np_array_2d[5] "
   ]
  },
  {
   "cell_type": "code",
   "execution_count": 22,
   "id": "dff8727e",
   "metadata": {},
   "outputs": [
    {
     "data": {
      "text/plain": [
       "'6'"
      ]
     },
     "execution_count": 22,
     "metadata": {},
     "output_type": "execute_result"
    }
   ],
   "source": [
    "np_array_2d[5,0] \n",
    "#np_array use only 1 pair of [] while py_list use [][]"
   ]
  },
  {
   "cell_type": "code",
   "execution_count": 23,
   "id": "f8ac5d40",
   "metadata": {},
   "outputs": [
    {
     "data": {
      "text/plain": [
       "array([['1', 'Ant'],\n",
       "       ['2', 'Bear'],\n",
       "       ['3', 'Cat']], dtype='<U11')"
      ]
     },
     "execution_count": 23,
     "metadata": {},
     "output_type": "execute_result"
    }
   ],
   "source": [
    "np_array_2d[:3]"
   ]
  },
  {
   "cell_type": "code",
   "execution_count": 24,
   "id": "48b81380",
   "metadata": {},
   "outputs": [
    {
     "data": {
      "text/plain": [
       "array(['1', '2', '3'], dtype='<U11')"
      ]
     },
     "execution_count": 24,
     "metadata": {},
     "output_type": "execute_result"
    }
   ],
   "source": [
    "np_array_2d[:3,0] \n",
    "# np shows first elements of the first 3 postions"
   ]
  },
  {
   "cell_type": "code",
   "execution_count": 25,
   "id": "5c01462e",
   "metadata": {},
   "outputs": [
    {
     "data": {
      "text/plain": [
       "array(['4', '5', '6'], dtype='<U11')"
      ]
     },
     "execution_count": 25,
     "metadata": {},
     "output_type": "execute_result"
    }
   ],
   "source": [
    "np_array_2d[3:6, 0]\n",
    "# np shows first elements on postions 4 - 6"
   ]
  },
  {
   "cell_type": "code",
   "execution_count": 26,
   "id": "ab951916",
   "metadata": {},
   "outputs": [
    {
     "data": {
      "text/plain": [
       "array(['Dog', 'Eagle', 'Frog'], dtype='<U11')"
      ]
     },
     "execution_count": 26,
     "metadata": {},
     "output_type": "execute_result"
    }
   ],
   "source": [
    "np_array_2d[3:6, 1] \n",
    "# shows second elements on positions 4 - 6"
   ]
  },
  {
   "cell_type": "code",
   "execution_count": 27,
   "id": "adb4fc65",
   "metadata": {},
   "outputs": [
    {
     "data": {
      "text/plain": [
       "array([['6', 'Frog'],\n",
       "       ['7', 'Giraffe'],\n",
       "       ['8', 'Hippo'],\n",
       "       ['9', 'Iguana'],\n",
       "       ['10', 'Jaguar']], dtype='<U11')"
      ]
     },
     "execution_count": 27,
     "metadata": {},
     "output_type": "execute_result"
    }
   ],
   "source": [
    "np_array_2d[5:]\n",
    "#elements from postion 6 onwards"
   ]
  },
  {
   "cell_type": "code",
   "execution_count": 28,
   "id": "dfed928d",
   "metadata": {},
   "outputs": [
    {
     "name": "stdout",
     "output_type": "stream",
     "text": [
      "['1' '2' '3' '4' '5' '6' '7' '8' '9' '10']\n",
      "['Ant' 'Bear' 'Cat' 'Dog' 'Eagle' 'Frog' 'Giraffe' 'Hippo' 'Iguana'\n",
      " 'Jaguar']\n"
     ]
    }
   ],
   "source": [
    "print(np_array_2d[:, 0])\n",
    "print(np_array_2d[:, 1])"
   ]
  },
  {
   "cell_type": "markdown",
   "id": "dfb969bc",
   "metadata": {},
   "source": [
    "### 1.5 Growing lists"
   ]
  },
  {
   "cell_type": "code",
   "execution_count": 29,
   "id": "4cf31133",
   "metadata": {},
   "outputs": [
    {
     "data": {
      "text/plain": [
       "['frog', 'frog', 'frog', 'frog', 'frog']"
      ]
     },
     "execution_count": 29,
     "metadata": {},
     "output_type": "execute_result"
    }
   ],
   "source": [
    "x=['frog']*5\n",
    "x            "
   ]
  },
  {
   "cell_type": "code",
   "execution_count": 30,
   "id": "de78d137",
   "metadata": {},
   "outputs": [
    {
     "data": {
      "text/plain": [
       "[2, 2, 2, 2, 2, 2]"
      ]
     },
     "execution_count": 30,
     "metadata": {},
     "output_type": "execute_result"
    }
   ],
   "source": [
    "x=[2]*6\n",
    "x"
   ]
  },
  {
   "cell_type": "code",
   "execution_count": 31,
   "id": "f1b70eed",
   "metadata": {},
   "outputs": [
    {
     "data": {
      "text/plain": [
       "[2, 1, 2, 3, 4]"
      ]
     },
     "execution_count": 31,
     "metadata": {},
     "output_type": "execute_result"
    }
   ],
   "source": [
    "x=[2]\n",
    "x = x + [1]   # !! does not add 1 to original value of 2\n",
    "x = x + [2]   # only grows the list\n",
    "x = x + [3]\n",
    "x = x + [4]\n",
    "x"
   ]
  },
  {
   "cell_type": "code",
   "execution_count": 32,
   "id": "2c8b59f0",
   "metadata": {},
   "outputs": [
    {
     "data": {
      "text/plain": [
       "[2, 1, 2, 3, 4]"
      ]
     },
     "execution_count": 32,
     "metadata": {},
     "output_type": "execute_result"
    }
   ],
   "source": [
    "x=[2]\n",
    "x+= [1]\n",
    "x+= [2]\n",
    "x+= [3]\n",
    "x+= [4]\n",
    "x\n",
    "# works the same"
   ]
  },
  {
   "cell_type": "code",
   "execution_count": 33,
   "id": "36af5855",
   "metadata": {},
   "outputs": [
    {
     "data": {
      "text/plain": [
       "[2, 1, 2, 3, 4]"
      ]
     },
     "execution_count": 33,
     "metadata": {},
     "output_type": "execute_result"
    }
   ],
   "source": [
    "x=[2]\n",
    "x+= [1, 2, 3, 4]\n",
    "x\n",
    "# do it all in one go"
   ]
  },
  {
   "cell_type": "code",
   "execution_count": 34,
   "id": "f4e543c3",
   "metadata": {},
   "outputs": [
    {
     "data": {
      "text/plain": [
       "[1, 2, 3, 4, 2]"
      ]
     },
     "execution_count": 34,
     "metadata": {},
     "output_type": "execute_result"
    }
   ],
   "source": [
    "x=[2]\n",
    "x= [1, 2, 3, 4] + x\n",
    "x"
   ]
  },
  {
   "cell_type": "code",
   "execution_count": 35,
   "id": "d037a09e",
   "metadata": {},
   "outputs": [
    {
     "data": {
      "text/plain": [
       "[2, 1, 2, 3, 4]"
      ]
     },
     "execution_count": 35,
     "metadata": {},
     "output_type": "execute_result"
    }
   ],
   "source": [
    "x=[2]\n",
    "x.append(1)\n",
    "x.append(2)\n",
    "x.append(3)\n",
    "x.append(4)\n",
    "x"
   ]
  },
  {
   "cell_type": "markdown",
   "id": "cd9c423d",
   "metadata": {},
   "source": [
    "## 2 Some loose ends"
   ]
  },
  {
   "cell_type": "markdown",
   "id": "b8001047",
   "metadata": {},
   "source": [
    "### 2.1 Tuples"
   ]
  },
  {
   "cell_type": "code",
   "execution_count": 36,
   "id": "f6b8ec54",
   "metadata": {},
   "outputs": [],
   "source": [
    "#define tuple first\n",
    "a=(1,2,3)"
   ]
  },
  {
   "cell_type": "code",
   "execution_count": 37,
   "id": "cdbde124",
   "metadata": {},
   "outputs": [
    {
     "name": "stdout",
     "output_type": "stream",
     "text": [
      "1\n",
      "3\n"
     ]
    }
   ],
   "source": [
    "#access its data\n",
    "print(a[0])\n",
    "print(a[2])\n",
    "\n",
    "# cannot change the data\n",
    "# i.e. a[0] = -1  --> wont work\n",
    "# a[0] += [10]   --> wont work"
   ]
  },
  {
   "cell_type": "markdown",
   "id": "b20db6e6",
   "metadata": {},
   "source": [
    "### 2.2 Be VERY careful when copying"
   ]
  },
  {
   "cell_type": "code",
   "execution_count": 38,
   "id": "95dc56fb",
   "metadata": {},
   "outputs": [],
   "source": [
    "# correct way of copying list\n",
    "\n",
    "x=['frog','froggo','froggy']\n",
    "y=x.copy()\n",
    "z=x.copy()"
   ]
  },
  {
   "cell_type": "code",
   "execution_count": 39,
   "id": "babb232c",
   "metadata": {},
   "outputs": [
    {
     "data": {
      "text/plain": [
       "['frog', 'froggo', 'froggy']"
      ]
     },
     "execution_count": 39,
     "metadata": {},
     "output_type": "execute_result"
    }
   ],
   "source": [
    "y"
   ]
  },
  {
   "cell_type": "code",
   "execution_count": 40,
   "id": "4dfcf129",
   "metadata": {},
   "outputs": [
    {
     "data": {
      "text/plain": [
       "['frog', 'froggo', 'froggy']"
      ]
     },
     "execution_count": 40,
     "metadata": {},
     "output_type": "execute_result"
    }
   ],
   "source": [
    "z"
   ]
  },
  {
   "cell_type": "markdown",
   "id": "d5b6f53c",
   "metadata": {},
   "source": [
    "## Exercise 1 :  Total recall?"
   ]
  },
  {
   "cell_type": "markdown",
   "id": "8f86ee77",
   "metadata": {},
   "source": [
    "1. subsetting: select\n",
    "1. indexing: select one element\n",
    "1. slicing: select range of elements\n",
    "1. masking: select True only"
   ]
  },
  {
   "cell_type": "markdown",
   "id": "08195044",
   "metadata": {},
   "source": [
    "## Exercise 2 :  Show me the ‘odd’ letters"
   ]
  },
  {
   "cell_type": "code",
   "execution_count": 41,
   "id": "6bb1a90c",
   "metadata": {},
   "outputs": [],
   "source": [
    "np_array_2d = np.array([[1, \"A\"], [3, \"C\"], [2, \"B\"], [4, \"D\"],\n",
    "                        [5, \"E\"], [7, \"G\"], [6, \"F\"], [8, \"H\"],\n",
    "                        [10, \"J\"], [9, \"I\"]])\n",
    "# instructions:\n",
    "# Use masking to subset the letters that correspond to the odd numbers \n",
    "# I.e. get the result [A, C, E, G, I]\n"
   ]
  },
  {
   "cell_type": "code",
   "execution_count": 42,
   "id": "173531e4",
   "metadata": {},
   "outputs": [
    {
     "data": {
      "text/plain": [
       "array([ 1,  3,  2,  4,  5,  7,  6,  8, 10,  9])"
      ]
     },
     "execution_count": 42,
     "metadata": {},
     "output_type": "execute_result"
    }
   ],
   "source": [
    "np_array_2d[:,0].astype(int)\n",
    "\n",
    "# astype provides the capability to \n",
    "# convert any suitable existing column to categorical type"
   ]
  },
  {
   "cell_type": "code",
   "execution_count": 43,
   "id": "8a7a0d92",
   "metadata": {},
   "outputs": [
    {
     "data": {
      "text/plain": [
       "array([1, 1, 0, 0, 1, 1, 0, 0, 0, 1], dtype=int32)"
      ]
     },
     "execution_count": 43,
     "metadata": {},
     "output_type": "execute_result"
    }
   ],
   "source": [
    "np_array_2d[:,0].astype(int)%2"
   ]
  },
  {
   "cell_type": "code",
   "execution_count": 44,
   "id": "caf6de50",
   "metadata": {},
   "outputs": [
    {
     "name": "stdout",
     "output_type": "stream",
     "text": [
      "[ True  True False False  True  True False False False  True]\n"
     ]
    }
   ],
   "source": [
    "my_mask = np_array_2d[:,0].astype(int)%2 > 0\n",
    "print(my_mask)"
   ]
  },
  {
   "cell_type": "code",
   "execution_count": 45,
   "id": "4282f012",
   "metadata": {},
   "outputs": [
    {
     "data": {
      "text/plain": [
       "array(['A', 'C', 'E', 'G', 'I'], dtype='<U11')"
      ]
     },
     "execution_count": 45,
     "metadata": {},
     "output_type": "execute_result"
    }
   ],
   "source": [
    "np_array_2d[my_mask, 1]"
   ]
  },
  {
   "cell_type": "code",
   "execution_count": 46,
   "id": "fa595425",
   "metadata": {},
   "outputs": [
    {
     "name": "stdout",
     "output_type": "stream",
     "text": [
      "[ True  True False False  True  True False False False  True]\n"
     ]
    },
    {
     "data": {
      "text/plain": [
       "array(['A', 'C', 'E', 'G', 'I'], dtype='<U11')"
      ]
     },
     "execution_count": 46,
     "metadata": {},
     "output_type": "execute_result"
    }
   ],
   "source": [
    "np_array_2d = np.array([[1, \"A\"], [3, \"C\"], [2, \"B\"], [4, \"D\"],\n",
    "                        [5, \"E\"], [7, \"G\"], [6, \"F\"], [8, \"H\"],\n",
    "                        [10, \"J\"], [9, \"I\"]])\n",
    "np_array_2d[:,0].astype(int)\n",
    "np_array_2d[:,0].astype(int)%2\n",
    "my_mask = np_array_2d[:,0].astype(int)%2 > 0\n",
    "print(my_mask)\n",
    "np_array_2d[my_mask, 1]"
   ]
  }
 ],
 "metadata": {
  "kernelspec": {
   "display_name": "Python 3 (ipykernel)",
   "language": "python",
   "name": "python3"
  },
  "language_info": {
   "codemirror_mode": {
    "name": "ipython",
    "version": 3
   },
   "file_extension": ".py",
   "mimetype": "text/x-python",
   "name": "python",
   "nbconvert_exporter": "python",
   "pygments_lexer": "ipython3",
   "version": "3.10.8"
  },
  "toc": {
   "base_numbering": 1,
   "nav_menu": {},
   "number_sections": true,
   "sideBar": true,
   "skip_h1_title": false,
   "title_cell": "Table of Contents",
   "title_sidebar": "Contents",
   "toc_cell": false,
   "toc_position": {},
   "toc_section_display": true,
   "toc_window_display": false
  },
  "varInspector": {
   "cols": {
    "lenName": 16,
    "lenType": 16,
    "lenVar": 40
   },
   "kernels_config": {
    "python": {
     "delete_cmd_postfix": "",
     "delete_cmd_prefix": "del ",
     "library": "var_list.py",
     "varRefreshCmd": "print(var_dic_list())"
    },
    "r": {
     "delete_cmd_postfix": ") ",
     "delete_cmd_prefix": "rm(",
     "library": "var_list.r",
     "varRefreshCmd": "cat(var_dic_list()) "
    }
   },
   "types_to_exclude": [
    "module",
    "function",
    "builtin_function_or_method",
    "instance",
    "_Feature"
   ],
   "window_display": false
  },
  "vscode": {
   "interpreter": {
    "hash": "31f2aee4e71d21fbe5cf8b01ff0e069b9275f58929596ceb00d14d90e3e16cd6"
   }
  }
 },
 "nbformat": 4,
 "nbformat_minor": 5
}
