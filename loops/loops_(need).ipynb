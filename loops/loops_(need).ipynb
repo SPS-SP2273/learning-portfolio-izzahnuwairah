{
 "cells": [
  {
   "cell_type": "markdown",
   "id": "123456",
   "metadata": {},
   "source": [
    "<div style=\"text-align:left;font-size:2em\"><span style=\"font-weight:bolder;font-size:1.25em\">SP2273 | Learning Portfolio</span><br><br><span style=\"font-weight:bold;color:darkred\">Loops (Need)</span></div>"
   ]
  },
  {
   "cell_type": "markdown",
   "id": "65a97c25",
   "metadata": {},
   "source": [
    "![](https://imgs.xkcd.com/comics/loop.png)\n",
    "this is me"
   ]
  },
  {
   "cell_type": "code",
   "execution_count": 1,
   "id": "9ce6d49e",
   "metadata": {},
   "outputs": [],
   "source": [
    "import numpy as np"
   ]
  },
  {
   "cell_type": "markdown",
   "id": "7870b619",
   "metadata": {},
   "source": [
    "## 1 for"
   ]
  },
  {
   "cell_type": "code",
   "execution_count": 2,
   "id": "1ffabb49",
   "metadata": {},
   "outputs": [
    {
     "name": "stdout",
     "output_type": "stream",
     "text": [
      "Aang is a bender!\n",
      "Katara is a bender!\n",
      "Toph is a bender!\n"
     ]
    }
   ],
   "source": [
    "real_names = [\"Aang\", \"Katara\", \"Toph\"]\n",
    "\n",
    "# THIS IS NOT THE RECOMMENDED WAY TO DO THIS\n",
    "name=real_names[0]\n",
    "print(f'{name} is a bender!')\n",
    "\n",
    "name=real_names[1]\n",
    "print(f'{name} is a bender!')\n",
    "\n",
    "name=real_names[2]\n",
    "print(f'{name} is a bender!')"
   ]
  },
  {
   "cell_type": "markdown",
   "id": "3e54c572",
   "metadata": {},
   "source": [
    "### 1.1 for with a list"
   ]
  },
  {
   "cell_type": "code",
   "execution_count": 3,
   "id": "dfb82833",
   "metadata": {},
   "outputs": [
    {
     "name": "stdout",
     "output_type": "stream",
     "text": [
      "Aang is a bender!\n",
      "Katara is a bender!\n",
      "Toph is a bender!\n"
     ]
    }
   ],
   "source": [
    "for name in real_names:\n",
    "    print(f\"{name} is a bender!\")\n",
    "\n",
    "# use for loop to achieve the same result\n",
    "# for loop goes thru the list and assigns \n",
    "# name the value of each element on the list\n",
    "\n",
    "# !!! for can be used to directly loop thru a list"
   ]
  },
  {
   "cell_type": "markdown",
   "id": "cbeeeda7",
   "metadata": {},
   "source": [
    "### 1.2 for with enumerate"
   ]
  },
  {
   "cell_type": "code",
   "execution_count": 4,
   "id": "694cdd7f",
   "metadata": {},
   "outputs": [],
   "source": [
    "super_names = [\"Black Widow\", \"Iron Man\", \"Doctor Strange\"]\n",
    "real_names = [\"Natasha Romanoff\", \"Tony Stark\", \"Stephen Strange\"]\n",
    "\n",
    "# for loop only accepts one list\n",
    "# use enumerate to access data for both list"
   ]
  },
  {
   "cell_type": "code",
   "execution_count": 5,
   "id": "7f92e8c7",
   "metadata": {},
   "outputs": [
    {
     "name": "stdout",
     "output_type": "stream",
     "text": [
      "0: Natasha Romanoff is a Marvel superhero!\n",
      "1: Tony Stark is a Marvel superhero!\n",
      "2: Stephen Strange is a Marvel superhero!\n"
     ]
    }
   ],
   "source": [
    "for i, name in enumerate(real_names):\n",
    "    print(f'{i}: {name} is a Marvel superhero!')\n",
    "\n",
    "\n",
    "# enumerate() keeps count --> can use to index!\n",
    "# i here is just a variable"
   ]
  },
  {
   "cell_type": "code",
   "execution_count": 6,
   "id": "d8787c6e",
   "metadata": {},
   "outputs": [
    {
     "name": "stdout",
     "output_type": "stream",
     "text": [
      "12: Natasha Romanoff is a Marvel superhero!\n",
      "13: Tony Stark is a Marvel superhero!\n",
      "14: Stephen Strange is a Marvel superhero!\n"
     ]
    }
   ],
   "source": [
    "for i, name in enumerate(real_names, 12):\n",
    "    print(f'{i}: {name} is a Marvel superhero!')\n",
    "\n",
    "# by default, enumerate() starts counting from 0\n",
    "# change start at another value by incl the number"
   ]
  },
  {
   "cell_type": "markdown",
   "id": "bcc5c035",
   "metadata": {},
   "source": [
    "### 1.3 for with range"
   ]
  },
  {
   "cell_type": "code",
   "execution_count": 7,
   "id": "ae5ed2c0",
   "metadata": {},
   "outputs": [
    {
     "name": "stdout",
     "output_type": "stream",
     "text": [
      "0\n",
      "1\n",
      "2\n",
      "3\n",
      "4\n"
     ]
    }
   ],
   "source": [
    "for i in range(5):\n",
    "    print(i)"
   ]
  },
  {
   "cell_type": "code",
   "execution_count": 8,
   "id": "80d9a92e",
   "metadata": {},
   "outputs": [
    {
     "name": "stdout",
     "output_type": "stream",
     "text": [
      "5\n",
      "6\n",
      "7\n",
      "8\n",
      "9\n"
     ]
    }
   ],
   "source": [
    "for i in range(5, 10):\n",
    "    print(i)\n",
    "\n",
    "# can tailor the start & end values"
   ]
  },
  {
   "cell_type": "code",
   "execution_count": 9,
   "id": "eb3b3558",
   "metadata": {},
   "outputs": [
    {
     "name": "stdout",
     "output_type": "stream",
     "text": [
      "1\n",
      "5\n",
      "9\n",
      "13\n",
      "17\n"
     ]
    }
   ],
   "source": [
    "for i in range(1, 20, 4):\n",
    "    print(i)\n",
    "    \n",
    "# number aft 2nd comma determines step size\n",
    "# so here the number is printed in steps of 4"
   ]
  },
  {
   "cell_type": "markdown",
   "id": "c646d6fd",
   "metadata": {},
   "source": [
    "just nuwairah's notes:\n",
    "- range() & enumerate only work with looping structures, **for** loop in this example\n",
    "- range() always ends one short of the ending number i.e. last number -1"
   ]
  },
  {
   "cell_type": "code",
   "execution_count": 10,
   "id": "042e3f42",
   "metadata": {},
   "outputs": [
    {
     "name": "stdout",
     "output_type": "stream",
     "text": [
      "Natasha Romanoff is Marvel's Black Widow!\n",
      "Tony Stark is Marvel's Iron Man!\n",
      "Stephen Strange is Marvel's Doctor Strange!\n"
     ]
    }
   ],
   "source": [
    "for i in range(len(real_names)):\n",
    "    real_name = real_names[i]\n",
    "    super_name = super_names[i]        \n",
    "    print(f\"{real_name} is Marvel's {super_name}!\")\n",
    "    \n",
    "    \n",
    "# reminder len() returns the number of items in an object\n",
    "# for can be run a given number of times using range()"
   ]
  },
  {
   "cell_type": "markdown",
   "id": "a346da3c",
   "metadata": {},
   "source": [
    "## 2 while"
   ]
  },
  {
   "cell_type": "code",
   "execution_count": 11,
   "id": "6a03226a",
   "metadata": {},
   "outputs": [
    {
     "name": "stdout",
     "output_type": "stream",
     "text": [
      "0\n",
      "1\n",
      "2\n",
      "3\n",
      "4\n"
     ]
    }
   ],
   "source": [
    "number = 0  # starting number\n",
    "\n",
    "while number < 5:\n",
    "    print(number)\n",
    "    number += 1\n",
    "    \n",
    "# while loop is set up so \n",
    "# that it keeps on running \n",
    "# while a condition is True"
   ]
  },
  {
   "cell_type": "markdown",
   "id": "d420893e",
   "metadata": {},
   "source": [
    "## Exercise 1 :  Make me a list"
   ]
  },
  {
   "cell_type": "code",
   "execution_count": 12,
   "id": "7acf1e62",
   "metadata": {},
   "outputs": [
    {
     "data": {
      "text/plain": [
       "[0, 1, 4, 9, 16, 25, 36, 49, 64, 81]"
      ]
     },
     "execution_count": 12,
     "metadata": {},
     "output_type": "execute_result"
    }
   ],
   "source": [
    "x=[]\n",
    "for i in range(10):\n",
    "    x+=[i**2]\n",
    "x\n",
    "# create empty list first\n",
    "# range() to limit for loop\n",
    "# append to the list\n",
    "# et voila!"
   ]
  },
  {
   "cell_type": "code",
   "execution_count": 13,
   "id": "312a649b",
   "metadata": {},
   "outputs": [
    {
     "data": {
      "text/plain": [
       "[0, 1, 4, 9, 16, 25, 36, 49, 64, 81]"
      ]
     },
     "execution_count": 13,
     "metadata": {},
     "output_type": "execute_result"
    }
   ],
   "source": [
    "x=[]\n",
    "blub = 0\n",
    "while blub < 10:\n",
    "    x+=[blub**2] \n",
    "    blub += 1 \n",
    "x\n",
    "# just testing using while loop\n",
    "# + can only add to the same type, i.e. list can only add to list\n",
    "# [] is needed to identify the list"
   ]
  },
  {
   "cell_type": "markdown",
   "id": "9bbc8200",
   "metadata": {},
   "source": [
    "## Exercise 2 :  Make me an odd list"
   ]
  },
  {
   "cell_type": "code",
   "execution_count": 14,
   "id": "57f205b0",
   "metadata": {},
   "outputs": [
    {
     "data": {
      "text/plain": [
       "[1, 9, 25, 49, 81]"
      ]
     },
     "execution_count": 14,
     "metadata": {},
     "output_type": "execute_result"
    }
   ],
   "source": [
    "x=[]\n",
    "for i in range(1,10,2):\n",
    "    x+=[i**2]\n",
    "x"
   ]
  },
  {
   "cell_type": "markdown",
   "id": "2fb1a16c",
   "metadata": {},
   "source": [
    "## Exercise 3 :  Make me another odd list"
   ]
  },
  {
   "cell_type": "code",
   "execution_count": 15,
   "id": "789cc3bb",
   "metadata": {},
   "outputs": [
    {
     "data": {
      "text/plain": [
       "[1, 9, 25, 49, 81]"
      ]
     },
     "execution_count": 15,
     "metadata": {},
     "output_type": "execute_result"
    }
   ],
   "source": [
    "x=[]\n",
    "number = 1\n",
    "while number < 10:\n",
    "    x+=[number**2]\n",
    "    number += 2\n",
    "x    "
   ]
  }
 ],
 "metadata": {
  "kernelspec": {
   "display_name": "Python 3 (ipykernel)",
   "language": "python",
   "name": "python3"
  },
  "language_info": {
   "codemirror_mode": {
    "name": "ipython",
    "version": 3
   },
   "file_extension": ".py",
   "mimetype": "text/x-python",
   "name": "python",
   "nbconvert_exporter": "python",
   "pygments_lexer": "ipython3",
   "version": "3.10.8"
  },
  "toc": {
   "base_numbering": 1,
   "nav_menu": {},
   "number_sections": true,
   "sideBar": true,
   "skip_h1_title": false,
   "title_cell": "Table of Contents",
   "title_sidebar": "Contents",
   "toc_cell": false,
   "toc_position": {},
   "toc_section_display": true,
   "toc_window_display": false
  },
  "varInspector": {
   "cols": {
    "lenName": 16,
    "lenType": 16,
    "lenVar": 40
   },
   "kernels_config": {
    "python": {
     "delete_cmd_postfix": "",
     "delete_cmd_prefix": "del ",
     "library": "var_list.py",
     "varRefreshCmd": "print(var_dic_list())"
    },
    "r": {
     "delete_cmd_postfix": ") ",
     "delete_cmd_prefix": "rm(",
     "library": "var_list.r",
     "varRefreshCmd": "cat(var_dic_list()) "
    }
   },
   "types_to_exclude": [
    "module",
    "function",
    "builtin_function_or_method",
    "instance",
    "_Feature"
   ],
   "window_display": false
  },
  "vscode": {
   "interpreter": {
    "hash": "31f2aee4e71d21fbe5cf8b01ff0e069b9275f58929596ceb00d14d90e3e16cd6"
   }
  }
 },
 "nbformat": 4,
 "nbformat_minor": 5
}
