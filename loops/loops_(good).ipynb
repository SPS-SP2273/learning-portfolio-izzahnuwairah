{
 "cells": [
  {
   "cell_type": "markdown",
   "id": "123456",
   "metadata": {},
   "source": [
    "<div style=\"text-align:left;font-size:2em\"><span style=\"font-weight:bolder;font-size:1.25em\">SP2273 | Learning Portfolio</span><br><br><span style=\"font-weight:bold;color:darkred\">Loops (Good)</span></div>"
   ]
  },
  {
   "cell_type": "code",
   "execution_count": 1,
   "id": "ae6597c1",
   "metadata": {},
   "outputs": [],
   "source": [
    "import numpy as np"
   ]
  },
  {
   "cell_type": "markdown",
   "id": "9aeda87f",
   "metadata": {},
   "source": [
    "## 1 Interrupting the flow"
   ]
  },
  {
   "cell_type": "code",
   "execution_count": 2,
   "id": "307ba70c",
   "metadata": {},
   "outputs": [
    {
     "name": "stdout",
     "output_type": "stream",
     "text": [
      "0\n",
      "1\n",
      "2\n",
      "3\n",
      "4\n",
      "5\n",
      "6\n"
     ]
    }
   ],
   "source": [
    "# break & continue allows us to interrupt the flow of a\n",
    "# loop from w/in the loop\n",
    "\n",
    "for i in range(10):\n",
    "    if i > 6: break\n",
    "    print(i)\n",
    "    \n",
    "# stops aft 6"
   ]
  },
  {
   "cell_type": "code",
   "execution_count": 3,
   "id": "44ebf091",
   "metadata": {},
   "outputs": [
    {
     "name": "stdout",
     "output_type": "stream",
     "text": [
      "0\n",
      "1\n",
      "2\n",
      "3\n",
      "4\n",
      "5\n",
      "7\n",
      "8\n",
      "9\n"
     ]
    }
   ],
   "source": [
    "for i in range(10):\n",
    "    if i == 6: continue\n",
    "    print(i)\n",
    "    \n",
    "# means to not proceed further in the current loop if i == 6"
   ]
  },
  {
   "cell_type": "code",
   "execution_count": 4,
   "id": "918caf19",
   "metadata": {},
   "outputs": [
    {
     "name": "stdout",
     "output_type": "stream",
     "text": [
      "1\n",
      "3\n",
      "5\n",
      "7\n",
      "9\n"
     ]
    }
   ],
   "source": [
    "for i in range(10):\n",
    "    if i % 2 == 0: continue     # dont proceed if remainder = 0 (even number)\n",
    "\n",
    "    print(i)                    # only prints odd numbers"
   ]
  },
  {
   "cell_type": "code",
   "execution_count": 5,
   "id": "9cb7ab1c",
   "metadata": {},
   "outputs": [
    {
     "name": "stdout",
     "output_type": "stream",
     "text": [
      "0\n",
      "1\n",
      "2\n",
      "3\n",
      "4\n"
     ]
    }
   ],
   "source": [
    "number=0\n",
    "\n",
    "while True:\n",
    "    print(number)\n",
    "    number += 1\n",
    "    if number > 4: break \n",
    "        # stops at 4"
   ]
  },
  {
   "cell_type": "markdown",
   "id": "9adfdf9e",
   "metadata": {},
   "source": [
    "## 2 List comprehension!"
   ]
  },
  {
   "cell_type": "markdown",
   "id": "fa2c9537",
   "metadata": {},
   "source": [
    "### 2.1 Basic syntax"
   ]
  },
  {
   "cell_type": "code",
   "execution_count": 6,
   "id": "ce2c707a",
   "metadata": {},
   "outputs": [
    {
     "data": {
      "text/plain": [
       "[0, 1, 2, 3, 4, 5, 6, 7, 8, 9]"
      ]
     },
     "execution_count": 6,
     "metadata": {},
     "output_type": "execute_result"
    }
   ],
   "source": [
    "[number for number in range(10)]\n",
    "# similar to for loop\n",
    "# need to put the thing you want as an output at the front\n",
    "# rmb that it starts at zero"
   ]
  },
  {
   "cell_type": "code",
   "execution_count": 7,
   "id": "99735291",
   "metadata": {},
   "outputs": [
    {
     "data": {
      "text/plain": [
       "[0, 1, 4, 9, 16, 25, 36, 49, 64, 81, 100, 121]"
      ]
     },
     "execution_count": 7,
     "metadata": {},
     "output_type": "execute_result"
    }
   ],
   "source": [
    "[number**2 for number in range(12)]"
   ]
  },
  {
   "cell_type": "markdown",
   "id": "ef839a24",
   "metadata": {},
   "source": [
    "### 2.2 List comprehension with conditions"
   ]
  },
  {
   "cell_type": "code",
   "execution_count": 8,
   "id": "2109c2a3",
   "metadata": {},
   "outputs": [
    {
     "data": {
      "text/plain": [
       "[1, 3, 5, 7, 9, 11]"
      ]
     },
     "execution_count": 8,
     "metadata": {},
     "output_type": "execute_result"
    }
   ],
   "source": [
    "[number for number in range(12) if number % 2 == 1]\n",
    "# [] is necessary\n",
    "# put out odd numbers (gives a remainder of 1 when divided by 2)"
   ]
  },
  {
   "cell_type": "markdown",
   "id": "80105c86",
   "metadata": {},
   "source": [
    "## 3 Other useful stuff"
   ]
  },
  {
   "cell_type": "markdown",
   "id": "648bd095",
   "metadata": {},
   "source": [
    "### 3.1 for with unpacking"
   ]
  },
  {
   "cell_type": "code",
   "execution_count": 9,
   "id": "cdc15812",
   "metadata": {},
   "outputs": [
    {
     "name": "stdout",
     "output_type": "stream",
     "text": [
      "x = 1, y = 2, z = 3\n",
      "a = 1, b = 2, c = 3\n"
     ]
    }
   ],
   "source": [
    "x, y, z=[1, 2, 3]\n",
    "print(f'x = {x}, y = {y}, z = {z}')\n",
    "print(f'a = {x}, b = {y}, c = {z}')\n",
    "\n",
    "# good to use w/ 2D lists"
   ]
  },
  {
   "cell_type": "markdown",
   "id": "58bcf628",
   "metadata": {},
   "source": [
    "### 3.2 for with a zip()"
   ]
  },
  {
   "cell_type": "code",
   "execution_count": 10,
   "id": "a9a1745c",
   "metadata": {},
   "outputs": [
    {
     "name": "stdout",
     "output_type": "stream",
     "text": [
      "Aang is a air bender!\n",
      "Katara is a water bender!\n",
      "Toph is a earth bender!\n"
     ]
    }
   ],
   "source": [
    "py_benders_info=[['Aang', 'air'],\n",
    "                     ['Katara', 'water'],\n",
    "                     ['Toph', 'earth']]\n",
    "\n",
    "for real_name, bending_ability in py_benders_info:\n",
    "    print(f\"{real_name} is a {bending_ability} bender!\")\n",
    "\n",
    "# by default, assigns real_name as the first 'column'\n",
    "# and bending_ability as the second 'column'\n",
    "# no need to define beforehand"
   ]
  },
  {
   "cell_type": "code",
   "execution_count": 11,
   "id": "03b54ff8",
   "metadata": {},
   "outputs": [
    {
     "name": "stdout",
     "output_type": "stream",
     "text": [
      "['Aang', 'air']\n",
      "['Katara', 'water']\n",
      "['Toph', 'earth']\n"
     ]
    }
   ],
   "source": [
    "py_benders_info=[['Aang', 'air'],\n",
    "                     ['Katara', 'water'],\n",
    "                     ['Toph', 'earth']]\n",
    "\n",
    "for bleb in py_benders_info:\n",
    "    print(bleb)\n",
    "\n",
    "# this shows that bleb is both columns"
   ]
  },
  {
   "cell_type": "markdown",
   "id": "e65dd8e3",
   "metadata": {},
   "source": [
    "### 3.3 for with dictionaries"
   ]
  },
  {
   "cell_type": "code",
   "execution_count": 12,
   "id": "8a1cdf4a",
   "metadata": {},
   "outputs": [
    {
     "name": "stdout",
     "output_type": "stream",
     "text": [
      "Tinky Winky is a purple teletubby!\n",
      "Dipsy is a green teletubby!\n",
      "Lala is a yellow teletubby!\n",
      "Po is a red teletubby!\n"
     ]
    }
   ],
   "source": [
    "teletubbies_info={\"Tinky Winky\": \"purple\",\n",
    "                \"Dipsy\": \"green\",\n",
    "                \"Lala\": \"yellow\",\n",
    "                \"Po\": \"red\"}\n",
    "\n",
    "for key, value in teletubbies_info.items():\n",
    "    print(f\"{key} is a {value} teletubby!\")"
   ]
  },
  {
   "cell_type": "code",
   "execution_count": 13,
   "id": "0a4e7ec6",
   "metadata": {},
   "outputs": [
    {
     "name": "stdout",
     "output_type": "stream",
     "text": [
      "Tinky Winky is a purple teletubby!\n",
      "Dipsy is a green teletubby!\n",
      "Lala is a yellow teletubby!\n",
      "Po is a red teletubby!\n"
     ]
    }
   ],
   "source": [
    "for key in teletubbies_info.keys():\n",
    "    value = teletubbies_info[key]\n",
    "    print(f\"{key} is a {value} teletubby!\")"
   ]
  },
  {
   "cell_type": "code",
   "execution_count": 14,
   "id": "86473b5e",
   "metadata": {},
   "outputs": [
    {
     "name": "stdout",
     "output_type": "stream",
     "text": [
      "Tinky Winky is a purple teletubby!\n",
      "Dipsy is a green teletubby!\n",
      "Lala is a yellow teletubby!\n",
      "Po is a red teletubby!\n"
     ]
    }
   ],
   "source": [
    "for name in teletubbies_info.keys():\n",
    "    colour = teletubbies_info[name]\n",
    "    print(f\"{name} is a {colour} teletubby!\")\n",
    "\n",
    "# key & value are variable names, can use any name u want"
   ]
  },
  {
   "cell_type": "markdown",
   "id": "335061a1",
   "metadata": {},
   "source": [
    "## Exercise 1 :  Make me an odd list\n"
   ]
  },
  {
   "cell_type": "code",
   "execution_count": 15,
   "id": "1db71aa5",
   "metadata": {},
   "outputs": [
    {
     "name": "stdout",
     "output_type": "stream",
     "text": [
      "[1, 9, 25, 49, 81]\n"
     ]
    }
   ],
   "source": [
    "x=[]\n",
    "for i in range (10):\n",
    "    if i % 2 == 0: continue\n",
    "    x.append(i**2)\n",
    "print(x)"
   ]
  },
  {
   "cell_type": "markdown",
   "id": "182ec015",
   "metadata": {},
   "source": [
    "## Exercise 2 :  Make me another odd list"
   ]
  },
  {
   "cell_type": "code",
   "execution_count": 16,
   "id": "50b0972d",
   "metadata": {},
   "outputs": [
    {
     "data": {
      "text/plain": [
       "[1, 9, 25, 49, 81]"
      ]
     },
     "execution_count": 16,
     "metadata": {},
     "output_type": "execute_result"
    }
   ],
   "source": [
    "[number**2 for number in range(10) if number % 2 == 1]"
   ]
  },
  {
   "cell_type": "markdown",
   "id": "425c2753",
   "metadata": {},
   "source": [
    "## Exercise 3 :  Time me!"
   ]
  },
  {
   "cell_type": "code",
   "execution_count": 17,
   "id": "5aced525",
   "metadata": {},
   "outputs": [],
   "source": [
    "import timeit"
   ]
  },
  {
   "cell_type": "code",
   "execution_count": 4,
   "id": "3841f95f",
   "metadata": {},
   "outputs": [
    {
     "name": "stdout",
     "output_type": "stream",
     "text": [
      "2.85 µs ± 297 ns per loop (mean ± std. dev. of 7 runs, 100,000 loops each)\n"
     ]
    }
   ],
   "source": [
    "%%timeit -n 100000 -r 7\n",
    "x=[]\n",
    "for i in range (10):\n",
    "    if i % 2 == 0: continue\n",
    "    x.append(i**2)"
   ]
  },
  {
   "cell_type": "code",
   "execution_count": null,
   "id": "2224b56a",
   "metadata": {},
   "outputs": [],
   "source": [
    "%timeit print(x)"
   ]
  },
  {
   "cell_type": "code",
   "execution_count": 6,
   "id": "03126f2f",
   "metadata": {
    "scrolled": true
   },
   "outputs": [
    {
     "name": "stdout",
     "output_type": "stream",
     "text": [
      "2.69 µs ± 277 ns per loop (mean ± std. dev. of 7 runs, 100,000 loops each)\n"
     ]
    }
   ],
   "source": [
    "%timeit [number**2 for number in range(10) if number % 2 == 1]"
   ]
  },
  {
   "cell_type": "code",
   "execution_count": 7,
   "id": "594a3394",
   "metadata": {},
   "outputs": [
    {
     "name": "stdout",
     "output_type": "stream",
     "text": [
      "2.94 µs ± 149 ns per loop (mean ± std. dev. of 7 runs, 100,000 loops each)\n"
     ]
    }
   ],
   "source": [
    "%%timeit \n",
    "[number**2 for number in range(10) if number % 2 == 1]"
   ]
  },
  {
   "cell_type": "markdown",
   "id": "7bb37d42",
   "metadata": {},
   "source": [
    "- %%timeit = cell magic\n",
    "- % = line magic\n",
    "- you can determine the number of loops (-n) and runs (-r) - helps to prevent infinite loop\n",
    "\n",
    "- both cells run at about the same rate\n"
   ]
  }
 ],
 "metadata": {
  "kernelspec": {
   "display_name": "Python 3 (ipykernel)",
   "language": "python",
   "name": "python3"
  },
  "language_info": {
   "codemirror_mode": {
    "name": "ipython",
    "version": 3
   },
   "file_extension": ".py",
   "mimetype": "text/x-python",
   "name": "python",
   "nbconvert_exporter": "python",
   "pygments_lexer": "ipython3",
   "version": "3.10.8"
  },
  "toc": {
   "base_numbering": 1,
   "nav_menu": {},
   "number_sections": true,
   "sideBar": true,
   "skip_h1_title": false,
   "title_cell": "Table of Contents",
   "title_sidebar": "Contents",
   "toc_cell": false,
   "toc_position": {},
   "toc_section_display": true,
   "toc_window_display": false
  },
  "varInspector": {
   "cols": {
    "lenName": 16,
    "lenType": 16,
    "lenVar": 40
   },
   "kernels_config": {
    "python": {
     "delete_cmd_postfix": "",
     "delete_cmd_prefix": "del ",
     "library": "var_list.py",
     "varRefreshCmd": "print(var_dic_list())"
    },
    "r": {
     "delete_cmd_postfix": ") ",
     "delete_cmd_prefix": "rm(",
     "library": "var_list.r",
     "varRefreshCmd": "cat(var_dic_list()) "
    }
   },
   "types_to_exclude": [
    "module",
    "function",
    "builtin_function_or_method",
    "instance",
    "_Feature"
   ],
   "window_display": false
  },
  "vscode": {
   "interpreter": {
    "hash": "31f2aee4e71d21fbe5cf8b01ff0e069b9275f58929596ceb00d14d90e3e16cd6"
   }
  }
 },
 "nbformat": 4,
 "nbformat_minor": 5
}
