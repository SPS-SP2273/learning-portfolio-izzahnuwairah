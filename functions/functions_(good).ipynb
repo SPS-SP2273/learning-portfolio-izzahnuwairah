{
 "cells": [
  {
   "cell_type": "markdown",
   "id": "123456",
   "metadata": {},
   "source": [
    "<div style=\"text-align:left;font-size:2em\"><span style=\"font-weight:bolder;font-size:1.25em\">SP2273 | Learning Portfolio</span><br><br><span style=\"font-weight:bold;color:darkred\">Functions (Good)</span></div>"
   ]
  },
  {
   "cell_type": "markdown",
   "id": "9f7d478d",
   "metadata": {},
   "source": [
    "## 1 Check, balances and contingencies"
   ]
  },
  {
   "cell_type": "code",
   "execution_count": 1,
   "id": "7fd7621d",
   "metadata": {},
   "outputs": [],
   "source": [
    "import numpy as np"
   ]
  },
  {
   "cell_type": "markdown",
   "id": "f89e51f5",
   "metadata": {},
   "source": [
    "### 1.1 assert"
   ]
  },
  {
   "cell_type": "code",
   "execution_count": 2,
   "id": "a4ad3c33",
   "metadata": {},
   "outputs": [],
   "source": [
    "# synthax\n",
    "# assert condition-to-check, message\n",
    "## assert stops the flow if the condition fails"
   ]
  },
  {
   "cell_type": "code",
   "execution_count": 3,
   "id": "ea903679",
   "metadata": {},
   "outputs": [
    {
     "name": "stdout",
     "output_type": "stream",
     "text": [
      "10\n"
     ]
    }
   ],
   "source": [
    "x = 10\n",
    "assert x >= 0, \"x is becoming negative!\"\n",
    "print(x)"
   ]
  },
  {
   "cell_type": "code",
   "execution_count": 4,
   "id": "7e00e7de",
   "metadata": {},
   "outputs": [
    {
     "ename": "AssertionError",
     "evalue": "x is becoming negative!",
     "output_type": "error",
     "traceback": [
      "\u001b[1;31m---------------------------------------------------------------------------\u001b[0m",
      "\u001b[1;31mAssertionError\u001b[0m                            Traceback (most recent call last)",
      "Cell \u001b[1;32mIn[4], line 2\u001b[0m\n\u001b[0;32m      1\u001b[0m x \u001b[38;5;241m=\u001b[39m \u001b[38;5;241m-\u001b[39m\u001b[38;5;241m1\u001b[39m\n\u001b[1;32m----> 2\u001b[0m \u001b[38;5;28;01massert\u001b[39;00m x \u001b[38;5;241m>\u001b[39m\u001b[38;5;241m=\u001b[39m \u001b[38;5;241m0\u001b[39m, \u001b[38;5;124m\"\u001b[39m\u001b[38;5;124mx is becoming negative!\u001b[39m\u001b[38;5;124m\"\u001b[39m\n\u001b[0;32m      3\u001b[0m \u001b[38;5;28mprint\u001b[39m(x)\n",
      "\u001b[1;31mAssertionError\u001b[0m: x is becoming negative!"
     ]
    }
   ],
   "source": [
    "x = -1\n",
    "assert x >= 0, \"x is becoming negative!\"\n",
    "print(x)"
   ]
  },
  {
   "cell_type": "markdown",
   "id": "8f286ce3",
   "metadata": {},
   "source": [
    "### 1.2 try-except"
   ]
  },
  {
   "cell_type": "code",
   "execution_count": 5,
   "id": "28c7db84",
   "metadata": {},
   "outputs": [],
   "source": [
    "# things gg wrong = exceptions\n",
    "# exception left unhandled will halt the flow of the programme"
   ]
  },
  {
   "cell_type": "code",
   "execution_count": 6,
   "id": "9b7b4cf0",
   "metadata": {},
   "outputs": [
    {
     "name": "stdout",
     "output_type": "stream",
     "text": [
      "Give me a number and I will calculate its square.5\n",
      "The square of 5 is 25!\n"
     ]
    }
   ],
   "source": [
    "number=input(\"Give me a number and I will calculate its square.\")\n",
    "square=int(number)**2       # converts English to number\n",
    "print(f'The square of {number} is {square}!')"
   ]
  },
  {
   "cell_type": "code",
   "execution_count": 7,
   "id": "9e952895",
   "metadata": {},
   "outputs": [
    {
     "name": "stdout",
     "output_type": "stream",
     "text": [
      "Give me a number and I will calculate its square.five\n"
     ]
    },
    {
     "ename": "ValueError",
     "evalue": "invalid literal for int() with base 10: 'five'",
     "output_type": "error",
     "traceback": [
      "\u001b[1;31m---------------------------------------------------------------------------\u001b[0m",
      "\u001b[1;31mValueError\u001b[0m                                Traceback (most recent call last)",
      "Cell \u001b[1;32mIn[7], line 2\u001b[0m\n\u001b[0;32m      1\u001b[0m number\u001b[38;5;241m=\u001b[39m\u001b[38;5;28minput\u001b[39m(\u001b[38;5;124m\"\u001b[39m\u001b[38;5;124mGive me a number and I will calculate its square.\u001b[39m\u001b[38;5;124m\"\u001b[39m)\n\u001b[1;32m----> 2\u001b[0m square\u001b[38;5;241m=\u001b[39m\u001b[38;5;28;43mint\u001b[39;49m\u001b[43m(\u001b[49m\u001b[43mnumber\u001b[49m\u001b[43m)\u001b[49m\u001b[38;5;241m*\u001b[39m\u001b[38;5;241m*\u001b[39m\u001b[38;5;241m2\u001b[39m       \u001b[38;5;66;03m# converts English to number\u001b[39;00m\n\u001b[0;32m      3\u001b[0m \u001b[38;5;28mprint\u001b[39m(\u001b[38;5;124mf\u001b[39m\u001b[38;5;124m'\u001b[39m\u001b[38;5;124mThe square of \u001b[39m\u001b[38;5;132;01m{\u001b[39;00mnumber\u001b[38;5;132;01m}\u001b[39;00m\u001b[38;5;124m is \u001b[39m\u001b[38;5;132;01m{\u001b[39;00msquare\u001b[38;5;132;01m}\u001b[39;00m\u001b[38;5;124m!\u001b[39m\u001b[38;5;124m'\u001b[39m)\n",
      "\u001b[1;31mValueError\u001b[0m: invalid literal for int() with base 10: 'five'"
     ]
    }
   ],
   "source": [
    "number=input(\"Give me a number and I will calculate its square.\")\n",
    "square=int(number)**2       # converts English to number\n",
    "print(f'The square of {number} is {square}!')"
   ]
  },
  {
   "cell_type": "code",
   "execution_count": 8,
   "id": "73605582",
   "metadata": {},
   "outputs": [
    {
     "name": "stdout",
     "output_type": "stream",
     "text": [
      "Give me a number and I will calculate its square.five\n",
      "Oh oh! I cannot square five!\n"
     ]
    }
   ],
   "source": [
    "try:\n",
    "    number=input(\"Give me a number and I will calculate its square.\")\n",
    "    square=int(number)**2\n",
    "    print(f'The square of {number} is {square}!')\n",
    "except:\n",
    "    print(f\"Oh oh! I cannot square {number}!\")"
   ]
  },
  {
   "cell_type": "markdown",
   "id": "1b42d01d",
   "metadata": {},
   "source": [
    "## 2 Some loose ends"
   ]
  },
  {
   "cell_type": "markdown",
   "id": "898ab8ba",
   "metadata": {},
   "source": [
    "### 2.1 Positional, keyword and default arguments"
   ]
  },
  {
   "cell_type": "code",
   "execution_count": 9,
   "id": "635bbc01",
   "metadata": {},
   "outputs": [
    {
     "data": {
      "text/plain": [
       "321"
      ]
     },
     "execution_count": 9,
     "metadata": {},
     "output_type": "execute_result"
    }
   ],
   "source": [
    "def funny_add(a, b, c=1):   \n",
    "    return a + 10*b + 100*c\n",
    "funny_add(1, 2, 3)  #order is impt i.e., a=1, b=2, c=3\n",
    "\n",
    "# default value for c is 1 i.e. if no value is input, c=1"
   ]
  },
  {
   "cell_type": "code",
   "execution_count": 10,
   "id": "ed49e378",
   "metadata": {},
   "outputs": [
    {
     "data": {
      "text/plain": [
       "121"
      ]
     },
     "execution_count": 10,
     "metadata": {},
     "output_type": "execute_result"
    }
   ],
   "source": [
    "funny_add(1,2)"
   ]
  },
  {
   "cell_type": "code",
   "execution_count": 11,
   "id": "a29b1cdd",
   "metadata": {},
   "outputs": [
    {
     "data": {
      "text/plain": [
       "321"
      ]
     },
     "execution_count": 11,
     "metadata": {},
     "output_type": "execute_result"
    }
   ],
   "source": [
    "funny_add(c=3, a=1, b=2) # order does not matter"
   ]
  },
  {
   "cell_type": "code",
   "execution_count": 12,
   "id": "1677622f",
   "metadata": {},
   "outputs": [
    {
     "ename": "SyntaxError",
     "evalue": "positional argument follows keyword argument (702417007.py, line 1)",
     "output_type": "error",
     "traceback": [
      "\u001b[1;36m  Cell \u001b[1;32mIn[12], line 1\u001b[1;36m\u001b[0m\n\u001b[1;33m    funny_add(a=2, 1)         # Won't work.\u001b[0m\n\u001b[1;37m                    ^\u001b[0m\n\u001b[1;31mSyntaxError\u001b[0m\u001b[1;31m:\u001b[0m positional argument follows keyword argument\n"
     ]
    }
   ],
   "source": [
    "funny_add(a=2, 1)         # Won't work.\n",
    "                          # Keywords cannot be followed by \n",
    "                          # positional\n",
    "# Python cannot unambiguously figure out what the position of 1 is"
   ]
  },
  {
   "cell_type": "markdown",
   "id": "70e14d50",
   "metadata": {},
   "source": [
    "### 2.2 Docstrings"
   ]
  },
  {
   "cell_type": "code",
   "execution_count": 13,
   "id": "f9bfdfa0",
   "metadata": {},
   "outputs": [],
   "source": [
    "def funny_add(a, b, c=1):\n",
    "    '''\n",
    "    A test function to demonstrate how \n",
    "    positional, keyword and default arguments \n",
    "    work.\n",
    "    '''\n",
    "    return a + 10*b + 100*c\n",
    "# docstring needs to be sandwiched btwn '''.....'''"
   ]
  },
  {
   "cell_type": "code",
   "execution_count": 14,
   "id": "840931f6",
   "metadata": {},
   "outputs": [
    {
     "name": "stdout",
     "output_type": "stream",
     "text": [
      "Help on function funny_add in module __main__:\n",
      "\n",
      "funny_add(a, b, c=1)\n",
      "    A test function to demonstrate how \n",
      "    positional, keyword and default arguments \n",
      "    work.\n",
      "\n"
     ]
    }
   ],
   "source": [
    "help(funny_add)"
   ]
  },
  {
   "cell_type": "markdown",
   "id": "d9125277",
   "metadata": {},
   "source": [
    "### 2.3 Function are first class citizens"
   ]
  },
  {
   "cell_type": "code",
   "execution_count": 15,
   "id": "18b7a524",
   "metadata": {},
   "outputs": [
    {
     "data": {
      "text/plain": [
       "1.0"
      ]
     },
     "execution_count": 15,
     "metadata": {},
     "output_type": "execute_result"
    }
   ],
   "source": [
    "#  u can pass a fn as an argument to another fn\n",
    "\n",
    "def my_function(angle, trig_function):\n",
    "        return trig_function(angle)\n",
    "\n",
    "my_function(np.pi/2, np.sin)"
   ]
  },
  {
   "cell_type": "code",
   "execution_count": 16,
   "id": "b8b075f9",
   "metadata": {},
   "outputs": [
    {
     "data": {
      "text/plain": [
       "6.123233995736766e-17"
      ]
     },
     "execution_count": 16,
     "metadata": {},
     "output_type": "execute_result"
    }
   ],
   "source": [
    "my_function(np.pi/2, np.cos)        "
   ]
  },
  {
   "cell_type": "code",
   "execution_count": 17,
   "id": "5c4eed86",
   "metadata": {},
   "outputs": [
    {
     "data": {
      "text/plain": [
       "-1.0"
      ]
     },
     "execution_count": 17,
     "metadata": {},
     "output_type": "execute_result"
    }
   ],
   "source": [
    "my_function(np.pi/2, lambda x: np.cos(2*x))\n",
    "\n",
    "# reminder: lambda function always returns \n",
    "# the value of the last statement"
   ]
  },
  {
   "cell_type": "markdown",
   "id": "8e3ccb76",
   "metadata": {},
   "source": [
    "### 2.4 More unpacking"
   ]
  },
  {
   "cell_type": "code",
   "execution_count": 18,
   "id": "98429fc4",
   "metadata": {},
   "outputs": [
    {
     "name": "stdout",
     "output_type": "stream",
     "text": [
      "1 2 3\n"
     ]
    }
   ],
   "source": [
    "x, y, z = [1, 2, 3]\n",
    "print(x, y, z)"
   ]
  },
  {
   "cell_type": "code",
   "execution_count": 19,
   "id": "32767ee8",
   "metadata": {},
   "outputs": [
    {
     "name": "stdout",
     "output_type": "stream",
     "text": [
      "1 2 3\n"
     ]
    }
   ],
   "source": [
    "x, y, z = np.array([1, 2, 3])\n",
    "print(x, y, z)"
   ]
  },
  {
   "cell_type": "code",
   "execution_count": 20,
   "id": "46c24fdf",
   "metadata": {},
   "outputs": [
    {
     "name": "stdout",
     "output_type": "stream",
     "text": [
      "1 [2, 3, 4] 5\n"
     ]
    }
   ],
   "source": [
    "x, *y, z = np.array([1, 2, 3, 4, 5])\n",
    "print(x, y, z)\n",
    "# *y = variable values of y, since x & z only has 1 value,\n",
    "# the remaining values are assigned to y"
   ]
  },
  {
   "cell_type": "code",
   "execution_count": 22,
   "id": "e574a8a3",
   "metadata": {},
   "outputs": [
    {
     "name": "stdout",
     "output_type": "stream",
     "text": [
      "1 2 [3, 4, 5]\n"
     ]
    }
   ],
   "source": [
    "x, y, *z = np.array([1, 2, 3, 4, 5])\n",
    "print(x, y, z)"
   ]
  },
  {
   "cell_type": "code",
   "execution_count": 23,
   "id": "2c334161",
   "metadata": {},
   "outputs": [
    {
     "name": "stdout",
     "output_type": "stream",
     "text": [
      "1 5\n"
     ]
    }
   ],
   "source": [
    "x, *_, y = [1, 2, 3, 4, 5]\n",
    "print(x, y)"
   ]
  },
  {
   "cell_type": "markdown",
   "id": "bfccd1f2",
   "metadata": {},
   "source": [
    "## Exercise 1 :  A better calculator I"
   ]
  },
  {
   "cell_type": "code",
   "execution_count": 74,
   "id": "192bbe7e",
   "metadata": {},
   "outputs": [],
   "source": [
    "x=np.array([0, 34, 44, 76, 27])\n",
    "y=np.array([64, 66, 56, 24, 73])"
   ]
  },
  {
   "cell_type": "code",
   "execution_count": 75,
   "id": "302f7aba",
   "metadata": {},
   "outputs": [
    {
     "data": {
      "text/plain": [
       "array([ 64, 100, 100, 100, 100])"
      ]
     },
     "execution_count": 75,
     "metadata": {},
     "output_type": "execute_result"
    }
   ],
   "source": [
    "def add(x,y):\n",
    "    return x+y\n",
    "add(x,y)"
   ]
  },
  {
   "cell_type": "code",
   "execution_count": 76,
   "id": "f3acf37c",
   "metadata": {},
   "outputs": [
    {
     "data": {
      "text/plain": [
       "array([-64, -32, -12,  52, -46])"
      ]
     },
     "execution_count": 76,
     "metadata": {},
     "output_type": "execute_result"
    }
   ],
   "source": [
    "def subtract(x,y):\n",
    "    return x-y\n",
    "subtract(x,y)"
   ]
  },
  {
   "cell_type": "code",
   "execution_count": 77,
   "id": "2765a561",
   "metadata": {},
   "outputs": [
    {
     "data": {
      "text/plain": [
       "array([   0, 2244, 2464, 1824, 1971])"
      ]
     },
     "execution_count": 77,
     "metadata": {},
     "output_type": "execute_result"
    }
   ],
   "source": [
    "def multiply(x,y):\n",
    "    return x*y\n",
    "multiply(x,y)"
   ]
  },
  {
   "cell_type": "code",
   "execution_count": 87,
   "id": "3f8dd76c",
   "metadata": {},
   "outputs": [
    {
     "data": {
      "text/plain": [
       "array([0.        , 0.51515152, 0.78571429, 3.16666667, 0.36986301])"
      ]
     },
     "execution_count": 87,
     "metadata": {},
     "output_type": "execute_result"
    }
   ],
   "source": [
    "def divide(x,y):\n",
    "    y=np.array(y)\n",
    "    assert (y!=0).all(), \"cannot divide by zero\" # checks if any of them are zero\n",
    "    return x/y\n",
    " # assert first then return\n",
    "\n",
    "divide(x,y)"
   ]
  },
  {
   "cell_type": "code",
   "execution_count": 88,
   "id": "c0a1285b",
   "metadata": {
    "scrolled": true
   },
   "outputs": [
    {
     "ename": "AssertionError",
     "evalue": "cannot divide by zero",
     "output_type": "error",
     "traceback": [
      "\u001b[1;31m---------------------------------------------------------------------------\u001b[0m",
      "\u001b[1;31mAssertionError\u001b[0m                            Traceback (most recent call last)",
      "Cell \u001b[1;32mIn[88], line 1\u001b[0m\n\u001b[1;32m----> 1\u001b[0m \u001b[43mdivide\u001b[49m\u001b[43m(\u001b[49m\u001b[38;5;241;43m2\u001b[39;49m\u001b[43m,\u001b[49m\u001b[38;5;241;43m0\u001b[39;49m\u001b[43m)\u001b[49m\n",
      "Cell \u001b[1;32mIn[87], line 3\u001b[0m, in \u001b[0;36mdivide\u001b[1;34m(x, y)\u001b[0m\n\u001b[0;32m      1\u001b[0m \u001b[38;5;28;01mdef\u001b[39;00m \u001b[38;5;21mdivide\u001b[39m(x,y):\n\u001b[0;32m      2\u001b[0m     y\u001b[38;5;241m=\u001b[39mnp\u001b[38;5;241m.\u001b[39marray(y)\n\u001b[1;32m----> 3\u001b[0m     \u001b[38;5;28;01massert\u001b[39;00m (y\u001b[38;5;241m!=\u001b[39m\u001b[38;5;241m0\u001b[39m)\u001b[38;5;241m.\u001b[39mall(), \u001b[38;5;124m\"\u001b[39m\u001b[38;5;124mcannot divide by zero\u001b[39m\u001b[38;5;124m\"\u001b[39m \u001b[38;5;66;03m# checks if any of them are zero\u001b[39;00m\n\u001b[0;32m      4\u001b[0m     \u001b[38;5;28;01mreturn\u001b[39;00m x\u001b[38;5;241m/\u001b[39my\n",
      "\u001b[1;31mAssertionError\u001b[0m: cannot divide by zero"
     ]
    }
   ],
   "source": [
    "divide(2,0)"
   ]
  },
  {
   "cell_type": "code",
   "execution_count": 89,
   "id": "867df2cc",
   "metadata": {},
   "outputs": [
    {
     "ename": "AssertionError",
     "evalue": "cannot divide by zero",
     "output_type": "error",
     "traceback": [
      "\u001b[1;31m---------------------------------------------------------------------------\u001b[0m",
      "\u001b[1;31mAssertionError\u001b[0m                            Traceback (most recent call last)",
      "Cell \u001b[1;32mIn[89], line 1\u001b[0m\n\u001b[1;32m----> 1\u001b[0m \u001b[43mdivide\u001b[49m\u001b[43m(\u001b[49m\u001b[43my\u001b[49m\u001b[43m,\u001b[49m\u001b[43mx\u001b[49m\u001b[43m)\u001b[49m\n",
      "Cell \u001b[1;32mIn[87], line 3\u001b[0m, in \u001b[0;36mdivide\u001b[1;34m(x, y)\u001b[0m\n\u001b[0;32m      1\u001b[0m \u001b[38;5;28;01mdef\u001b[39;00m \u001b[38;5;21mdivide\u001b[39m(x,y):\n\u001b[0;32m      2\u001b[0m     y\u001b[38;5;241m=\u001b[39mnp\u001b[38;5;241m.\u001b[39marray(y)\n\u001b[1;32m----> 3\u001b[0m     \u001b[38;5;28;01massert\u001b[39;00m (y\u001b[38;5;241m!=\u001b[39m\u001b[38;5;241m0\u001b[39m)\u001b[38;5;241m.\u001b[39mall(), \u001b[38;5;124m\"\u001b[39m\u001b[38;5;124mcannot divide by zero\u001b[39m\u001b[38;5;124m\"\u001b[39m \u001b[38;5;66;03m# checks if any of them are zero\u001b[39;00m\n\u001b[0;32m      4\u001b[0m     \u001b[38;5;28;01mreturn\u001b[39;00m x\u001b[38;5;241m/\u001b[39my\n",
      "\u001b[1;31mAssertionError\u001b[0m: cannot divide by zero"
     ]
    }
   ],
   "source": [
    "divide(y,x)"
   ]
  },
  {
   "cell_type": "markdown",
   "id": "1f7d118e",
   "metadata": {},
   "source": [
    "## Exercise 2 :  A better calculator II"
   ]
  },
  {
   "cell_type": "code",
   "execution_count": 99,
   "id": "80cfd535",
   "metadata": {},
   "outputs": [],
   "source": [
    "x=np.array([0, 34, 44, 76, 27])\n",
    "y=np.array([64, 66, 56, 24, 73])"
   ]
  },
  {
   "cell_type": "code",
   "execution_count": 121,
   "id": "b0513985",
   "metadata": {},
   "outputs": [],
   "source": [
    "def add(x,y):\n",
    "    return x+y\n",
    "\n",
    "def subtract(x,y):\n",
    "    return x-y\n",
    "\n",
    "def multiply(x,y):\n",
    "    return x*y\n",
    "\n",
    "def divide(x,y):\n",
    "    try:\n",
    "        assert (y!=0).all(), 'abcd'\n",
    "        return x/y\n",
    "    except:\n",
    "        print(f'cannot divide') # this will override the 'abcd' above"
   ]
  },
  {
   "cell_type": "code",
   "execution_count": 118,
   "id": "e58a7f3f",
   "metadata": {},
   "outputs": [
    {
     "data": {
      "text/plain": [
       "array([ 64, 100, 100, 100, 100])"
      ]
     },
     "execution_count": 118,
     "metadata": {},
     "output_type": "execute_result"
    }
   ],
   "source": [
    "add(x,y)"
   ]
  },
  {
   "cell_type": "code",
   "execution_count": 119,
   "id": "cbca358d",
   "metadata": {},
   "outputs": [
    {
     "data": {
      "text/plain": [
       "array([-64, -32, -12,  52, -46])"
      ]
     },
     "execution_count": 119,
     "metadata": {},
     "output_type": "execute_result"
    }
   ],
   "source": [
    "subtract(x,y)"
   ]
  },
  {
   "cell_type": "code",
   "execution_count": 120,
   "id": "6482dd38",
   "metadata": {},
   "outputs": [
    {
     "data": {
      "text/plain": [
       "array([   0, 2244, 2464, 1824, 1971])"
      ]
     },
     "execution_count": 120,
     "metadata": {},
     "output_type": "execute_result"
    }
   ],
   "source": [
    "multiply(x,y)"
   ]
  },
  {
   "cell_type": "code",
   "execution_count": 114,
   "id": "ce719ad7",
   "metadata": {},
   "outputs": [
    {
     "name": "stdout",
     "output_type": "stream",
     "text": [
      "cannot divide\n"
     ]
    }
   ],
   "source": [
    "divide(y,x)"
   ]
  }
 ],
 "metadata": {
  "kernelspec": {
   "display_name": "Python 3 (ipykernel)",
   "language": "python",
   "name": "python3"
  },
  "language_info": {
   "codemirror_mode": {
    "name": "ipython",
    "version": 3
   },
   "file_extension": ".py",
   "mimetype": "text/x-python",
   "name": "python",
   "nbconvert_exporter": "python",
   "pygments_lexer": "ipython3",
   "version": "3.10.8"
  },
  "toc": {
   "base_numbering": 1,
   "nav_menu": {},
   "number_sections": true,
   "sideBar": true,
   "skip_h1_title": false,
   "title_cell": "Table of Contents",
   "title_sidebar": "Contents",
   "toc_cell": false,
   "toc_position": {},
   "toc_section_display": true,
   "toc_window_display": false
  },
  "varInspector": {
   "cols": {
    "lenName": 16,
    "lenType": 16,
    "lenVar": 40
   },
   "kernels_config": {
    "python": {
     "delete_cmd_postfix": "",
     "delete_cmd_prefix": "del ",
     "library": "var_list.py",
     "varRefreshCmd": "print(var_dic_list())"
    },
    "r": {
     "delete_cmd_postfix": ") ",
     "delete_cmd_prefix": "rm(",
     "library": "var_list.r",
     "varRefreshCmd": "cat(var_dic_list()) "
    }
   },
   "types_to_exclude": [
    "module",
    "function",
    "builtin_function_or_method",
    "instance",
    "_Feature"
   ],
   "window_display": false
  },
  "vscode": {
   "interpreter": {
    "hash": "31f2aee4e71d21fbe5cf8b01ff0e069b9275f58929596ceb00d14d90e3e16cd6"
   }
  }
 },
 "nbformat": 4,
 "nbformat_minor": 5
}
