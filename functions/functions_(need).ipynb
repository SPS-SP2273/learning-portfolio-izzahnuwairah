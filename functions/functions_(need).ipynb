{
 "cells": [
  {
   "cell_type": "markdown",
   "id": "123456",
   "metadata": {},
   "source": [
    "<div style=\"text-align:left;font-size:2em\"><span style=\"font-weight:bolder;font-size:1.25em\">SP2273 | Learning Portfolio</span><br><br><span style=\"font-weight:bold;color:darkred\">Functions (Need)</span></div>"
   ]
  },
  {
   "cell_type": "code",
   "execution_count": 1,
   "id": "472ee8d6",
   "metadata": {},
   "outputs": [],
   "source": [
    "import numpy as np"
   ]
  },
  {
   "cell_type": "markdown",
   "id": "2dd8902c",
   "metadata": {},
   "source": [
    "## 1 User defined functions"
   ]
  },
  {
   "cell_type": "markdown",
   "id": "9219c7da",
   "metadata": {},
   "source": [
    "### 1.1 Named functions that return"
   ]
  },
  {
   "cell_type": "code",
   "execution_count": 2,
   "id": "45b19f3d",
   "metadata": {},
   "outputs": [],
   "source": [
    "def greeting(name):\n",
    "    if name == 'Pikachu':\n",
    "        return 'Hello Pikachu! So, nice to meet you!'\n",
    "    else:\n",
    "        return f'Hello {name}!'\n",
    "# function name is **greeting** which accepts 1 argument **name**"
   ]
  },
  {
   "cell_type": "code",
   "execution_count": 3,
   "id": "66ffadff",
   "metadata": {},
   "outputs": [
    {
     "data": {
      "text/plain": [
       "'Hello Snorlax!'"
      ]
     },
     "execution_count": 3,
     "metadata": {},
     "output_type": "execute_result"
    }
   ],
   "source": [
    "greeting(\"Snorlax\")"
   ]
  },
  {
   "cell_type": "code",
   "execution_count": 4,
   "id": "92ef1f76",
   "metadata": {},
   "outputs": [
    {
     "data": {
      "text/plain": [
       "'Hello Squirtle!'"
      ]
     },
     "execution_count": 4,
     "metadata": {},
     "output_type": "execute_result"
    }
   ],
   "source": [
    "greeting(name='Squirtle')"
   ]
  },
  {
   "cell_type": "code",
   "execution_count": 5,
   "id": "d4fbd24d",
   "metadata": {},
   "outputs": [
    {
     "name": "stdout",
     "output_type": "stream",
     "text": [
      "Hello Charmander!\n",
      "Hello Squirtle!\n"
     ]
    }
   ],
   "source": [
    "greet = greeting(name='Charmander')\n",
    "print(greet)\n",
    "print(greeting(name='Squirtle'))"
   ]
  },
  {
   "cell_type": "code",
   "execution_count": 6,
   "id": "4de1cc1c",
   "metadata": {},
   "outputs": [],
   "source": [
    "def basic_stats(numbers):\n",
    "    np_numbers=np.array(numbers)\n",
    "    return np_numbers.min(), np_numbers.max(), np_numbers.mean()\n",
    "\n",
    "# can use funciton ony w/in a function"
   ]
  },
  {
   "cell_type": "code",
   "execution_count": 19,
   "id": "9c48c512",
   "metadata": {},
   "outputs": [
    {
     "name": "stdout",
     "output_type": "stream",
     "text": [
      "1\n",
      "5\n",
      "3.0\n"
     ]
    }
   ],
   "source": [
    "list_min, list_max, list_mean = basic_stats([1, 2, 3, 4, 5])\n",
    "print(list_min)\n",
    "print(list_max)\n",
    "print(list_mean)"
   ]
  },
  {
   "cell_type": "markdown",
   "id": "1e6017ae",
   "metadata": {},
   "source": [
    "### 1.2 Named functions that don’t return"
   ]
  },
  {
   "cell_type": "markdown",
   "id": "48838c22",
   "metadata": {},
   "source": [
    "### 1.3 Anonymous functions"
   ]
  },
  {
   "cell_type": "code",
   "execution_count": 20,
   "id": "8455bc64",
   "metadata": {},
   "outputs": [
    {
     "data": {
      "text/plain": [
       "'Hello Pikachu!'"
      ]
     },
     "execution_count": 20,
     "metadata": {},
     "output_type": "execute_result"
    }
   ],
   "source": [
    "my_short_function = lambda name: f\"Hello {name}!\"\n",
    "my_short_function(name=\"Pikachu\")"
   ]
  },
  {
   "cell_type": "code",
   "execution_count": 21,
   "id": "77024ee4",
   "metadata": {},
   "outputs": [
    {
     "data": {
      "text/plain": [
       "[[0, 9, 19],\n",
       " [1, 8, 18],\n",
       " [2, 7, 17],\n",
       " [3, 6, 16],\n",
       " [4, 5, 15],\n",
       " [5, 4, 14],\n",
       " [6, 3, 13],\n",
       " [7, 2, 12],\n",
       " [8, 1, 11],\n",
       " [9, 0, 10]]"
      ]
     },
     "execution_count": 21,
     "metadata": {},
     "output_type": "execute_result"
    }
   ],
   "source": [
    "numbers=[[9, 0, 10],\n",
    "         [8, 1, 11],\n",
    "         [7, 2, 12],\n",
    "         [6, 3, 13],\n",
    "         [5, 4, 14],\n",
    "         [4, 5, 15],\n",
    "         [3, 6, 16],\n",
    "         [2, 7, 17],\n",
    "         [1, 8, 18],\n",
    "         [0, 9, 19]]\n",
    "\n",
    "sorted(numbers)      # sort by comparing the default key \n",
    "                     # (i.e. the 1st element) "
   ]
  },
  {
   "cell_type": "code",
   "execution_count": 27,
   "id": "d08d2830",
   "metadata": {},
   "outputs": [
    {
     "data": {
      "text/plain": [
       "[[9, 0, 10],\n",
       " [8, 1, 11],\n",
       " [7, 2, 12],\n",
       " [6, 3, 13],\n",
       " [5, 4, 14],\n",
       " [4, 5, 15],\n",
       " [3, 6, 16],\n",
       " [2, 7, 17],\n",
       " [1, 8, 18],\n",
       " [0, 9, 19]]"
      ]
     },
     "execution_count": 27,
     "metadata": {},
     "output_type": "execute_result"
    }
   ],
   "source": [
    "sorted(numbers, key=lambda x: x[1]) \n",
    "\n",
    "# sort by comparing a custom key that uses the 2nd element\n",
    "# lambda fn always returns the value of the last statement"
   ]
  },
  {
   "cell_type": "code",
   "execution_count": 29,
   "id": "05314c25",
   "metadata": {},
   "outputs": [
    {
     "data": {
      "text/plain": [
       "[[9, 0, 10],\n",
       " [8, 1, 11],\n",
       " [7, 2, 12],\n",
       " [6, 3, 13],\n",
       " [5, 4, 14],\n",
       " [4, 5, 15],\n",
       " [3, 6, 16],\n",
       " [2, 7, 17],\n",
       " [1, 8, 18],\n",
       " [0, 9, 19]]"
      ]
     },
     "execution_count": 29,
     "metadata": {},
     "output_type": "execute_result"
    }
   ],
   "source": [
    "sorted(numbers, key=lambda x: sum(x))  \n",
    "# sort by comparing a custom key that uses\n",
    "# the sum of the elements (ascending order)"
   ]
  },
  {
   "cell_type": "markdown",
   "id": "3937e27c",
   "metadata": {},
   "source": [
    "### 1.4 Optional arguments"
   ]
  },
  {
   "cell_type": "code",
   "execution_count": 34,
   "id": "a7ebed48",
   "metadata": {},
   "outputs": [
    {
     "data": {
      "text/plain": [
       "'Hello Lilo!'"
      ]
     },
     "execution_count": 34,
     "metadata": {},
     "output_type": "execute_result"
    }
   ],
   "source": [
    "def greeting(name='Lilo'):\n",
    "    if name == 'Stitch':\n",
    "        return 'Hello Stitch! So, nice to meet you!'\n",
    "    else:\n",
    "        return f'Hello {name}!'\n",
    "\n",
    "greeting()"
   ]
  },
  {
   "cell_type": "code",
   "execution_count": 35,
   "id": "bb811069",
   "metadata": {},
   "outputs": [
    {
     "data": {
      "text/plain": [
       "'Hello Stitch! So, nice to meet you!'"
      ]
     },
     "execution_count": 35,
     "metadata": {},
     "output_type": "execute_result"
    }
   ],
   "source": [
    "greeting('Stitch')"
   ]
  },
  {
   "cell_type": "code",
   "execution_count": 36,
   "id": "c7395f48",
   "metadata": {},
   "outputs": [],
   "source": [
    "?print"
   ]
  },
  {
   "cell_type": "code",
   "execution_count": 37,
   "id": "5d273013",
   "metadata": {},
   "outputs": [
    {
     "name": "stdout",
     "output_type": "stream",
     "text": [
      "Ohana means family.\n",
      "Ohana---means---family.\n"
     ]
    }
   ],
   "source": [
    "print('Ohana', 'means', 'family.')                \n",
    "print('Ohana', 'means', 'family.', sep='---')  \n",
    "\n",
    "# Just for comparison"
   ]
  },
  {
   "cell_type": "markdown",
   "id": "0c58b708",
   "metadata": {},
   "source": [
    "## 2 The importance of functions?"
   ]
  },
  {
   "cell_type": "markdown",
   "id": "fa2da65d",
   "metadata": {},
   "source": [
    "### 2.1 An argument for functions"
   ]
  },
  {
   "cell_type": "code",
   "execution_count": 10,
   "id": "25d95318",
   "metadata": {},
   "outputs": [],
   "source": [
    "\n",
    "# Your code here\n"
   ]
  },
  {
   "cell_type": "markdown",
   "id": "453fb50c",
   "metadata": {},
   "source": [
    "### 2.2 A word of caution"
   ]
  },
  {
   "cell_type": "code",
   "execution_count": 11,
   "id": "d75dae79",
   "metadata": {},
   "outputs": [],
   "source": [
    "\n",
    "# Your code here\n"
   ]
  },
  {
   "cell_type": "markdown",
   "id": "75cf3be9",
   "metadata": {},
   "source": [
    "## Exercise 1 :  Do you know why?"
   ]
  },
  {
   "cell_type": "code",
   "execution_count": 39,
   "id": "5f2741b2",
   "metadata": {},
   "outputs": [
    {
     "data": {
      "text/plain": [
       "'Hello Robin!'"
      ]
     },
     "execution_count": 39,
     "metadata": {},
     "output_type": "execute_result"
    }
   ],
   "source": [
    "def greeting(name):\n",
    "    if name == 'Batman':\n",
    "        return 'Hello Batman! So, nice to meet you!'\n",
    "    return f'Hello {name}!'\n",
    "greeting('Robin')"
   ]
  },
  {
   "cell_type": "markdown",
   "id": "5fec4211",
   "metadata": {},
   "source": [
    "## Exercise 2 :  Calculator functions"
   ]
  },
  {
   "cell_type": "code",
   "execution_count": 13,
   "id": "b877233b",
   "metadata": {},
   "outputs": [],
   "source": [
    "\n",
    "\n",
    "\n",
    "# Your solution here\n",
    "\n",
    "\n"
   ]
  },
  {
   "cell_type": "markdown",
   "id": "2fe1b6d7",
   "metadata": {},
   "source": [
    "## Exercise 3 :  max_info() with NumPy"
   ]
  },
  {
   "cell_type": "code",
   "execution_count": 14,
   "id": "4184be29",
   "metadata": {},
   "outputs": [],
   "source": [
    "\n",
    "\n",
    "\n",
    "# Your solution here\n",
    "\n",
    "\n"
   ]
  }
 ],
 "metadata": {
  "kernelspec": {
   "display_name": "Python 3 (ipykernel)",
   "language": "python",
   "name": "python3"
  },
  "language_info": {
   "codemirror_mode": {
    "name": "ipython",
    "version": 3
   },
   "file_extension": ".py",
   "mimetype": "text/x-python",
   "name": "python",
   "nbconvert_exporter": "python",
   "pygments_lexer": "ipython3",
   "version": "3.10.8"
  },
  "toc": {
   "base_numbering": 1,
   "nav_menu": {},
   "number_sections": true,
   "sideBar": true,
   "skip_h1_title": false,
   "title_cell": "Table of Contents",
   "title_sidebar": "Contents",
   "toc_cell": false,
   "toc_position": {},
   "toc_section_display": true,
   "toc_window_display": false
  },
  "varInspector": {
   "cols": {
    "lenName": 16,
    "lenType": 16,
    "lenVar": 40
   },
   "kernels_config": {
    "python": {
     "delete_cmd_postfix": "",
     "delete_cmd_prefix": "del ",
     "library": "var_list.py",
     "varRefreshCmd": "print(var_dic_list())"
    },
    "r": {
     "delete_cmd_postfix": ") ",
     "delete_cmd_prefix": "rm(",
     "library": "var_list.r",
     "varRefreshCmd": "cat(var_dic_list()) "
    }
   },
   "types_to_exclude": [
    "module",
    "function",
    "builtin_function_or_method",
    "instance",
    "_Feature"
   ],
   "window_display": false
  },
  "vscode": {
   "interpreter": {
    "hash": "31f2aee4e71d21fbe5cf8b01ff0e069b9275f58929596ceb00d14d90e3e16cd6"
   }
  }
 },
 "nbformat": 4,
 "nbformat_minor": 5
}
