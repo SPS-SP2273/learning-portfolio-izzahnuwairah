{
 "cells": [
  {
   "cell_type": "markdown",
   "id": "123456",
   "metadata": {},
   "source": [
    "<div style=\"text-align:left;font-size:2em\"><span style=\"font-weight:bolder;font-size:1.25em\">SP2273 | Learning Portfolio</span><br><br><span style=\"font-weight:bold;color:darkred\">Using Jupyter (Need)</span></div>"
   ]
  },
  {
   "cell_type": "markdown",
   "id": "8c6db36a",
   "metadata": {},
   "source": [
    "## 1 Getting started with Jupyter"
   ]
  },
  {
   "cell_type": "markdown",
   "id": "a2ae5b01",
   "metadata": {},
   "source": [
    "### 1.1 Its all about running cells"
   ]
  },
  {
   "cell_type": "code",
   "execution_count": 1,
   "id": "2289bb4a",
   "metadata": {},
   "outputs": [
    {
     "name": "stdout",
     "output_type": "stream",
     "text": [
      "Hello World\n"
     ]
    }
   ],
   "source": [
    "print('Hello World')\n",
    "# Your code here\n"
   ]
  },
  {
   "cell_type": "markdown",
   "id": "4c8159dc",
   "metadata": {},
   "source": [
    "### 1.2 A traditional start"
   ]
  },
  {
   "cell_type": "code",
   "execution_count": 2,
   "id": "610086f2",
   "metadata": {},
   "outputs": [
    {
     "name": "stdout",
     "output_type": "stream",
     "text": [
      "Hello World!\n"
     ]
    }
   ],
   "source": [
    "print ('Hello World!')"
   ]
  },
  {
   "cell_type": "markdown",
   "id": "55a08535",
   "metadata": {},
   "source": [
    "## 2 All about Markdown"
   ]
  },
  {
   "cell_type": "markdown",
   "id": "7e24be01",
   "metadata": {},
   "source": [
    "### 2.1 Rendering Markdown cells"
   ]
  },
  {
   "cell_type": "markdown",
   "id": "41a47d29",
   "metadata": {},
   "source": [
    "\n",
    "The ships hung in the sky in much the same way that bricks don’t.\n"
   ]
  },
  {
   "cell_type": "markdown",
   "id": "0a2729ac",
   "metadata": {},
   "source": [
    "### 2.2 Some basic syntax"
   ]
  },
  {
   "cell_type": "markdown",
   "id": "58dbc27e",
   "metadata": {},
   "source": [
    "The ships *hung in the sky* in much the same way that **bricks don’t.**<sup>1</sup><sub>QUOTE</sub>\n"
   ]
  },
  {
   "cell_type": "markdown",
   "id": "f0c59701",
   "metadata": {},
   "source": [
    "### 2.3 Headings"
   ]
  },
  {
   "cell_type": "markdown",
   "id": "f63d9b0d",
   "metadata": {},
   "source": [
    "\n",
    "# this is huge\n",
    "## this is big\n",
    "### this is normal i guess\n",
    "#### smol baby\n"
   ]
  },
  {
   "cell_type": "markdown",
   "id": "e51e08e7",
   "metadata": {},
   "source": [
    "### 2.4 Displaying Code"
   ]
  },
  {
   "cell_type": "markdown",
   "id": "7b7a90e8",
   "metadata": {},
   "source": [
    "\n",
    "```python\n",
    "print ('Hello World')\n",
    "```\n"
   ]
  },
  {
   "cell_type": "markdown",
   "id": "b73f2383",
   "metadata": {},
   "source": [
    "### 2.5 Links"
   ]
  },
  {
   "cell_type": "markdown",
   "id": "8eed7ee0",
   "metadata": {},
   "source": [
    "[SP2273 Website](https://sps.nus.edu.sg/sp2273)"
   ]
  },
  {
   "cell_type": "markdown",
   "id": "d2593c8c",
   "metadata": {},
   "source": [
    "### 2.6 Images"
   ]
  },
  {
   "cell_type": "markdown",
   "id": "b3717971",
   "metadata": {},
   "source": [
    "![](https://nus.edu.sg/images/default-source/base/logo.png)"
   ]
  },
  {
   "cell_type": "markdown",
   "id": "f0837d1a",
   "metadata": {},
   "source": [
    "### 2.7 Tables"
   ]
  },
  {
   "cell_type": "markdown",
   "id": "6fc6df47",
   "metadata": {},
   "source": [
    "|A|B|C|\n",
    "|:---|:---|:---|\n",
    "|snorlax|pikachu|charmander|\n",
    "|blue|yellow|red|\n",
    "|cute|cute|cute|"
   ]
  },
  {
   "cell_type": "markdown",
   "id": "b37340f3",
   "metadata": {},
   "source": [
    "### 2.8 Lists"
   ]
  },
  {
   "cell_type": "markdown",
   "id": "ab737348",
   "metadata": {},
   "source": [
    "### numbered\n",
    "1. why are the examples starwars\n",
    "1. i dont watch starwars\n",
    "1. i really dont\n",
    "\n",
    "### unnumbered\n",
    "- red\n",
    "- orange\n",
    "- yellow\n",
    "\n",
    "### let's mix it up\n",
    "1. this is kinda cool\n",
    "    - i never learnt code before\n",
    "    - so this is very very interesting\n",
    "1. okay that's all\n",
    "    - thank you\n",
    "    - very much"
   ]
  },
  {
   "cell_type": "markdown",
   "id": "0cdd080d",
   "metadata": {},
   "source": [
    "### 2.9 Equations"
   ]
  },
  {
   "cell_type": "markdown",
   "id": "7e3e35d8",
   "metadata": {},
   "source": [
    "$i \\lt 3 u$\n",
    "\n",
    "$$\n",
    "y = \\dfrac{\\pi}{\\sqrt{a+b+c}}\n",
    "$$"
   ]
  },
  {
   "cell_type": "markdown",
   "id": "ba6e0b49",
   "metadata": {},
   "source": [
    "## Exercise 1 :  Put it in Markdown"
   ]
  },
  {
   "cell_type": "markdown",
   "id": "6d81b989",
   "metadata": {},
   "source": [
    "### Quadratic Equations\n",
    "![](https://upload.wikimedia.org/wikipedia/commons/thumb/f/f8/Polynomialdeg2.svg/300px-Polynomialdeg2.svg.png)\n",
    "(Image from the [Wikipedia page on Quadratic equations](https://en.wikipedia.org/wiki/Quadratic_equation))\n",
    "\n",
    "### Introduction\n",
    "The general form of a quadratic equation is:\n",
    "\n",
    "$$\n",
    "ax^2+bx+c=0\n",
    "$$\n",
    "\n",
    "**Solutions** Provided $a \\ne 0$, we can use an elementary algebraic method called [completeing the square](https://en.wikipedia.org/wiki/Completing_the_square) to show that a quadratic equation has the following solution:\n",
    "$$\n",
    "x = \\dfrac{-b\\pm\\sqrt{b^2-4ac}}{2a}\n",
    "$$\n",
    "\n",
    "### Discriminant\n",
    "The quantity $\\Delta=b^2-4ac$ is called the **discriminant** of the equation and decides the nature of its solutions. The table below shows the various possibilities.\n",
    "\n",
    "|Discriminant|Roots|\n",
    "|:-----------|:----------|\n",
    "| $$\\Delta=b^2-4ac=0$$|A single solution of $-b/(2a)$|\n",
    "| $\\Delta=b^2-4ac\\gt0$|Two distinct solutions|\n",
    "| $\\Delta=b^2-4ac\\lt0$|No real solutions; both are complex.|"
   ]
  },
  {
   "cell_type": "markdown",
   "id": "78132033",
   "metadata": {},
   "source": [
    "## Exercise 2 :  In your own words"
   ]
  },
  {
   "cell_type": "markdown",
   "id": "98ab6843",
   "metadata": {},
   "source": [
    "1. What is a **repository**?\n",
    "    1. A repository contains all of your project's files and each file's revision history.\n",
    "1. Git keep tracks of **changes** in the files in our repository.\n",
    "1. What is a **commit**?\n",
    "    1. It is an individual change to a file.\n",
    "1. What is a **push**?\n",
    "    1. It is a command used to upload commits from local repository to a remote repository.\n",
    "1. What is the difference between **GitHub** and **GitHub Desktop**?\n",
    "    1. GitHub is a cloud-based hosting platform that enables developers to manage their Git repositories. GitHub Desktop is an application that lets users interact better with GitHub through a GUI.\n",
    "1. Is there an ‘opposite’ to a **push**?\n",
    "    1. Yes, pull or fetch. "
   ]
  },
  {
   "cell_type": "code",
   "execution_count": null,
   "id": "970ab698",
   "metadata": {},
   "outputs": [],
   "source": []
  }
 ],
 "metadata": {
  "kernelspec": {
   "display_name": "Python 3 (ipykernel)",
   "language": "python",
   "name": "python3"
  },
  "language_info": {
   "codemirror_mode": {
    "name": "ipython",
    "version": 3
   },
   "file_extension": ".py",
   "mimetype": "text/x-python",
   "name": "python",
   "nbconvert_exporter": "python",
   "pygments_lexer": "ipython3",
   "version": "3.10.8"
  },
  "toc": {
   "base_numbering": 1,
   "nav_menu": {},
   "number_sections": true,
   "sideBar": true,
   "skip_h1_title": false,
   "title_cell": "Table of Contents",
   "title_sidebar": "Contents",
   "toc_cell": false,
   "toc_position": {},
   "toc_section_display": true,
   "toc_window_display": false
  },
  "vscode": {
   "interpreter": {
    "hash": "31f2aee4e71d21fbe5cf8b01ff0e069b9275f58929596ceb00d14d90e3e16cd6"
   }
  }
 },
 "nbformat": 4,
 "nbformat_minor": 5
}
